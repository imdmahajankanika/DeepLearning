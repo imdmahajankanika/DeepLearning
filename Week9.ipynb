{
  "nbformat": 4,
  "nbformat_minor": 0,
  "metadata": {
    "colab": {
      "name": "Week9.ipynb",
      "provenance": [],
      "collapsed_sections": [],
      "toc_visible": true,
      "authorship_tag": "ABX9TyNDoxHIVB0O8x/rBKH2EYYh"
    },
    "kernelspec": {
      "name": "python3",
      "display_name": "Python 3"
    },
    "language_info": {
      "name": "python"
    },
    "accelerator": "GPU"
  },
  "cells": [
    {
      "cell_type": "markdown",
      "metadata": {
        "id": "dFjE24guHxYN"
      },
      "source": [
        "#Import libraries"
      ]
    },
    {
      "cell_type": "code",
      "metadata": {
        "id": "t7kIvN-BG_Ps"
      },
      "source": [
        "import tensorflow as tf\n",
        "import numpy as np"
      ],
      "execution_count": null,
      "outputs": []
    },
    {
      "cell_type": "code",
      "metadata": {
        "colab": {
          "base_uri": "https://localhost:8080/",
          "height": 35
        },
        "id": "_UsSzGCTH4EW",
        "outputId": "bd044378-d2bc-43a3-b51e-8257255672f1"
      },
      "source": [
        "tf.test.gpu_device_name()\n"
      ],
      "execution_count": null,
      "outputs": [
        {
          "output_type": "execute_result",
          "data": {
            "application/vnd.google.colaboratory.intrinsic+json": {
              "type": "string"
            },
            "text/plain": [
              "'/device:GPU:0'"
            ]
          },
          "metadata": {
            "tags": []
          },
          "execution_count": 3
        }
      ]
    },
    {
      "cell_type": "code",
      "metadata": {
        "id": "CO5XBktSH6dd"
      },
      "source": [
        "import pandas as pd\n",
        "import matplotlib.pyplot as plt"
      ],
      "execution_count": null,
      "outputs": []
    },
    {
      "cell_type": "markdown",
      "metadata": {
        "id": "STkqafS5IH3_"
      },
      "source": [
        "#Exe. 1 Upload the price data set, data.csv using pandas. Check the uploaded dataset and its different columns"
      ]
    },
    {
      "cell_type": "code",
      "metadata": {
        "colab": {
          "resources": {
            "http://localhost:8080/nbextensions/google.colab/files.js": {
              "data": "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",
              "ok": true,
              "headers": [
                [
                  "content-type",
                  "application/javascript"
                ]
              ],
              "status": 200,
              "status_text": ""
            }
          },
          "base_uri": "https://localhost:8080/",
          "height": 140
        },
        "id": "5MsLLbUtIE0z",
        "outputId": "5ca75c44-2b6f-4d61-f76c-21170f653c69"
      },
      "source": [
        "from google.colab import files\n",
        "uploaded = files.upload()"
      ],
      "execution_count": null,
      "outputs": [
        {
          "output_type": "display_data",
          "data": {
            "text/html": [
              "\n",
              "     <input type=\"file\" id=\"files-5b3dea44-bc6f-42c6-8a78-bea11c9d3b63\" name=\"files[]\" multiple disabled\n",
              "        style=\"border:none\" />\n",
              "     <output id=\"result-5b3dea44-bc6f-42c6-8a78-bea11c9d3b63\">\n",
              "      Upload widget is only available when the cell has been executed in the\n",
              "      current browser session. Please rerun this cell to enable.\n",
              "      </output>\n",
              "      <script src=\"/nbextensions/google.colab/files.js\"></script> "
            ],
            "text/plain": [
              "<IPython.core.display.HTML object>"
            ]
          },
          "metadata": {
            "tags": []
          }
        },
        {
          "output_type": "stream",
          "text": [
            "Saving data.csv to data.csv\n",
            "Saving poems.txt to poems.txt\n",
            "Saving sherlock_holmes.txt to sherlock_holmes.txt\n"
          ],
          "name": "stdout"
        }
      ]
    },
    {
      "cell_type": "code",
      "metadata": {
        "colab": {
          "base_uri": "https://localhost:8080/",
          "height": 419
        },
        "id": "5gN9QSGlIgVT",
        "outputId": "6d199e96-bb98-4fea-9691-9f6f4ef137d4"
      },
      "source": [
        "df =  pd.read_csv('./data.csv', header=0,error_bad_lines=False)\n",
        "df"
      ],
      "execution_count": null,
      "outputs": [
        {
          "output_type": "execute_result",
          "data": {
            "text/html": [
              "<div>\n",
              "<style scoped>\n",
              "    .dataframe tbody tr th:only-of-type {\n",
              "        vertical-align: middle;\n",
              "    }\n",
              "\n",
              "    .dataframe tbody tr th {\n",
              "        vertical-align: top;\n",
              "    }\n",
              "\n",
              "    .dataframe thead th {\n",
              "        text-align: right;\n",
              "    }\n",
              "</style>\n",
              "<table border=\"1\" class=\"dataframe\">\n",
              "  <thead>\n",
              "    <tr style=\"text-align: right;\">\n",
              "      <th></th>\n",
              "      <th>date</th>\n",
              "      <th>symbol</th>\n",
              "      <th>open</th>\n",
              "      <th>close</th>\n",
              "      <th>low</th>\n",
              "      <th>high</th>\n",
              "      <th>volume</th>\n",
              "    </tr>\n",
              "  </thead>\n",
              "  <tbody>\n",
              "    <tr>\n",
              "      <th>0</th>\n",
              "      <td>2016-01-05 00:00:00</td>\n",
              "      <td>WLTW</td>\n",
              "      <td>123.430000</td>\n",
              "      <td>125.839996</td>\n",
              "      <td>122.309998</td>\n",
              "      <td>126.250000</td>\n",
              "      <td>2163600.0</td>\n",
              "    </tr>\n",
              "    <tr>\n",
              "      <th>1</th>\n",
              "      <td>2016-01-06 00:00:00</td>\n",
              "      <td>WLTW</td>\n",
              "      <td>125.239998</td>\n",
              "      <td>119.980003</td>\n",
              "      <td>119.940002</td>\n",
              "      <td>125.540001</td>\n",
              "      <td>2386400.0</td>\n",
              "    </tr>\n",
              "    <tr>\n",
              "      <th>2</th>\n",
              "      <td>2016-01-07 00:00:00</td>\n",
              "      <td>WLTW</td>\n",
              "      <td>116.379997</td>\n",
              "      <td>114.949997</td>\n",
              "      <td>114.930000</td>\n",
              "      <td>119.739998</td>\n",
              "      <td>2489500.0</td>\n",
              "    </tr>\n",
              "    <tr>\n",
              "      <th>3</th>\n",
              "      <td>2016-01-08 00:00:00</td>\n",
              "      <td>WLTW</td>\n",
              "      <td>115.480003</td>\n",
              "      <td>116.620003</td>\n",
              "      <td>113.500000</td>\n",
              "      <td>117.440002</td>\n",
              "      <td>2006300.0</td>\n",
              "    </tr>\n",
              "    <tr>\n",
              "      <th>4</th>\n",
              "      <td>2016-01-11 00:00:00</td>\n",
              "      <td>WLTW</td>\n",
              "      <td>117.010002</td>\n",
              "      <td>114.970001</td>\n",
              "      <td>114.089996</td>\n",
              "      <td>117.330002</td>\n",
              "      <td>1408600.0</td>\n",
              "    </tr>\n",
              "    <tr>\n",
              "      <th>...</th>\n",
              "      <td>...</td>\n",
              "      <td>...</td>\n",
              "      <td>...</td>\n",
              "      <td>...</td>\n",
              "      <td>...</td>\n",
              "      <td>...</td>\n",
              "      <td>...</td>\n",
              "    </tr>\n",
              "    <tr>\n",
              "      <th>851259</th>\n",
              "      <td>2016-12-30</td>\n",
              "      <td>ZBH</td>\n",
              "      <td>103.309998</td>\n",
              "      <td>103.199997</td>\n",
              "      <td>102.849998</td>\n",
              "      <td>103.930000</td>\n",
              "      <td>973800.0</td>\n",
              "    </tr>\n",
              "    <tr>\n",
              "      <th>851260</th>\n",
              "      <td>2016-12-30</td>\n",
              "      <td>ZION</td>\n",
              "      <td>43.070000</td>\n",
              "      <td>43.040001</td>\n",
              "      <td>42.689999</td>\n",
              "      <td>43.310001</td>\n",
              "      <td>1938100.0</td>\n",
              "    </tr>\n",
              "    <tr>\n",
              "      <th>851261</th>\n",
              "      <td>2016-12-30</td>\n",
              "      <td>ZTS</td>\n",
              "      <td>53.639999</td>\n",
              "      <td>53.529999</td>\n",
              "      <td>53.270000</td>\n",
              "      <td>53.740002</td>\n",
              "      <td>1701200.0</td>\n",
              "    </tr>\n",
              "    <tr>\n",
              "      <th>851262</th>\n",
              "      <td>2016-12-30 00:00:00</td>\n",
              "      <td>AIV</td>\n",
              "      <td>44.730000</td>\n",
              "      <td>45.450001</td>\n",
              "      <td>44.410000</td>\n",
              "      <td>45.590000</td>\n",
              "      <td>1380900.0</td>\n",
              "    </tr>\n",
              "    <tr>\n",
              "      <th>851263</th>\n",
              "      <td>2016-12-30 00:00:00</td>\n",
              "      <td>FTV</td>\n",
              "      <td>54.200001</td>\n",
              "      <td>53.630001</td>\n",
              "      <td>53.389999</td>\n",
              "      <td>54.480000</td>\n",
              "      <td>705100.0</td>\n",
              "    </tr>\n",
              "  </tbody>\n",
              "</table>\n",
              "<p>851264 rows × 7 columns</p>\n",
              "</div>"
            ],
            "text/plain": [
              "                       date symbol  ...        high     volume\n",
              "0       2016-01-05 00:00:00   WLTW  ...  126.250000  2163600.0\n",
              "1       2016-01-06 00:00:00   WLTW  ...  125.540001  2386400.0\n",
              "2       2016-01-07 00:00:00   WLTW  ...  119.739998  2489500.0\n",
              "3       2016-01-08 00:00:00   WLTW  ...  117.440002  2006300.0\n",
              "4       2016-01-11 00:00:00   WLTW  ...  117.330002  1408600.0\n",
              "...                     ...    ...  ...         ...        ...\n",
              "851259           2016-12-30    ZBH  ...  103.930000   973800.0\n",
              "851260           2016-12-30   ZION  ...   43.310001  1938100.0\n",
              "851261           2016-12-30    ZTS  ...   53.740002  1701200.0\n",
              "851262  2016-12-30 00:00:00    AIV  ...   45.590000  1380900.0\n",
              "851263  2016-12-30 00:00:00    FTV  ...   54.480000   705100.0\n",
              "\n",
              "[851264 rows x 7 columns]"
            ]
          },
          "metadata": {
            "tags": []
          },
          "execution_count": 9
        }
      ]
    },
    {
      "cell_type": "code",
      "metadata": {
        "colab": {
          "base_uri": "https://localhost:8080/"
        },
        "id": "QCTXDB7_JIc0",
        "outputId": "de8f9da8-ea10-4aa6-b0a3-6a74ca08e87e"
      },
      "source": [
        "df.shape"
      ],
      "execution_count": null,
      "outputs": [
        {
          "output_type": "execute_result",
          "data": {
            "text/plain": [
              "(851264, 7)"
            ]
          },
          "metadata": {
            "tags": []
          },
          "execution_count": 8
        }
      ]
    },
    {
      "cell_type": "code",
      "metadata": {
        "colab": {
          "base_uri": "https://localhost:8080/"
        },
        "id": "RB0l7BdHIpaw",
        "outputId": "b721e6c8-7612-4275-e0c2-0cd4f903c02f"
      },
      "source": [
        "df.columns"
      ],
      "execution_count": null,
      "outputs": [
        {
          "output_type": "execute_result",
          "data": {
            "text/plain": [
              "Index(['date', 'symbol', 'open', 'close', 'low', 'high', 'volume'], dtype='object')"
            ]
          },
          "metadata": {
            "tags": []
          },
          "execution_count": 7
        }
      ]
    },
    {
      "cell_type": "markdown",
      "metadata": {
        "id": "xy9xpuUYJLZB"
      },
      "source": [
        "# Get a subset of dataset, contaning YHOO symbol. name this subset of data as yahoo. Get only the high column values (6th column) and save them in a variable namely yahoo stock prices, and demonstrate high values in a graph."
      ]
    },
    {
      "cell_type": "code",
      "metadata": {
        "colab": {
          "base_uri": "https://localhost:8080/",
          "height": 419
        },
        "id": "LjJByFnSI4lx",
        "outputId": "a51a025e-e474-404e-d98e-54e394502935"
      },
      "source": [
        "yahoo= df[df['symbol']=='YHOO']\n",
        "yahoo"
      ],
      "execution_count": null,
      "outputs": [
        {
          "output_type": "execute_result",
          "data": {
            "text/html": [
              "<div>\n",
              "<style scoped>\n",
              "    .dataframe tbody tr th:only-of-type {\n",
              "        vertical-align: middle;\n",
              "    }\n",
              "\n",
              "    .dataframe tbody tr th {\n",
              "        vertical-align: top;\n",
              "    }\n",
              "\n",
              "    .dataframe thead th {\n",
              "        text-align: right;\n",
              "    }\n",
              "</style>\n",
              "<table border=\"1\" class=\"dataframe\">\n",
              "  <thead>\n",
              "    <tr style=\"text-align: right;\">\n",
              "      <th></th>\n",
              "      <th>date</th>\n",
              "      <th>symbol</th>\n",
              "      <th>open</th>\n",
              "      <th>close</th>\n",
              "      <th>low</th>\n",
              "      <th>high</th>\n",
              "      <th>volume</th>\n",
              "    </tr>\n",
              "  </thead>\n",
              "  <tbody>\n",
              "    <tr>\n",
              "      <th>713</th>\n",
              "      <td>2010-01-04</td>\n",
              "      <td>YHOO</td>\n",
              "      <td>16.940001</td>\n",
              "      <td>17.100000</td>\n",
              "      <td>16.879999</td>\n",
              "      <td>17.200001</td>\n",
              "      <td>16587400.0</td>\n",
              "    </tr>\n",
              "    <tr>\n",
              "      <th>1181</th>\n",
              "      <td>2010-01-05</td>\n",
              "      <td>YHOO</td>\n",
              "      <td>17.219999</td>\n",
              "      <td>17.230000</td>\n",
              "      <td>17.000000</td>\n",
              "      <td>17.230000</td>\n",
              "      <td>11718100.0</td>\n",
              "    </tr>\n",
              "    <tr>\n",
              "      <th>1649</th>\n",
              "      <td>2010-01-06</td>\n",
              "      <td>YHOO</td>\n",
              "      <td>17.170000</td>\n",
              "      <td>17.170000</td>\n",
              "      <td>17.070000</td>\n",
              "      <td>17.299999</td>\n",
              "      <td>16422000.0</td>\n",
              "    </tr>\n",
              "    <tr>\n",
              "      <th>2117</th>\n",
              "      <td>2010-01-07</td>\n",
              "      <td>YHOO</td>\n",
              "      <td>16.809999</td>\n",
              "      <td>16.700001</td>\n",
              "      <td>16.570000</td>\n",
              "      <td>16.900000</td>\n",
              "      <td>31816300.0</td>\n",
              "    </tr>\n",
              "    <tr>\n",
              "      <th>2585</th>\n",
              "      <td>2010-01-08</td>\n",
              "      <td>YHOO</td>\n",
              "      <td>16.680000</td>\n",
              "      <td>16.700001</td>\n",
              "      <td>16.620001</td>\n",
              "      <td>16.760000</td>\n",
              "      <td>15470000.0</td>\n",
              "    </tr>\n",
              "    <tr>\n",
              "      <th>...</th>\n",
              "      <td>...</td>\n",
              "      <td>...</td>\n",
              "      <td>...</td>\n",
              "      <td>...</td>\n",
              "      <td>...</td>\n",
              "      <td>...</td>\n",
              "      <td>...</td>\n",
              "    </tr>\n",
              "    <tr>\n",
              "      <th>849257</th>\n",
              "      <td>2016-12-23</td>\n",
              "      <td>YHOO</td>\n",
              "      <td>38.459999</td>\n",
              "      <td>38.660000</td>\n",
              "      <td>38.369999</td>\n",
              "      <td>38.810001</td>\n",
              "      <td>3840100.0</td>\n",
              "    </tr>\n",
              "    <tr>\n",
              "      <th>849757</th>\n",
              "      <td>2016-12-27</td>\n",
              "      <td>YHOO</td>\n",
              "      <td>38.590000</td>\n",
              "      <td>38.919998</td>\n",
              "      <td>38.500000</td>\n",
              "      <td>39.070000</td>\n",
              "      <td>4240300.0</td>\n",
              "    </tr>\n",
              "    <tr>\n",
              "      <th>850257</th>\n",
              "      <td>2016-12-28</td>\n",
              "      <td>YHOO</td>\n",
              "      <td>39.119999</td>\n",
              "      <td>38.730000</td>\n",
              "      <td>38.709999</td>\n",
              "      <td>39.220001</td>\n",
              "      <td>4393500.0</td>\n",
              "    </tr>\n",
              "    <tr>\n",
              "      <th>850757</th>\n",
              "      <td>2016-12-29</td>\n",
              "      <td>YHOO</td>\n",
              "      <td>38.759998</td>\n",
              "      <td>38.639999</td>\n",
              "      <td>38.480000</td>\n",
              "      <td>38.930000</td>\n",
              "      <td>4170200.0</td>\n",
              "    </tr>\n",
              "    <tr>\n",
              "      <th>851257</th>\n",
              "      <td>2016-12-30</td>\n",
              "      <td>YHOO</td>\n",
              "      <td>38.720001</td>\n",
              "      <td>38.669998</td>\n",
              "      <td>38.430000</td>\n",
              "      <td>39.000000</td>\n",
              "      <td>6431600.0</td>\n",
              "    </tr>\n",
              "  </tbody>\n",
              "</table>\n",
              "<p>1762 rows × 7 columns</p>\n",
              "</div>"
            ],
            "text/plain": [
              "              date symbol       open  ...        low       high      volume\n",
              "713     2010-01-04   YHOO  16.940001  ...  16.879999  17.200001  16587400.0\n",
              "1181    2010-01-05   YHOO  17.219999  ...  17.000000  17.230000  11718100.0\n",
              "1649    2010-01-06   YHOO  17.170000  ...  17.070000  17.299999  16422000.0\n",
              "2117    2010-01-07   YHOO  16.809999  ...  16.570000  16.900000  31816300.0\n",
              "2585    2010-01-08   YHOO  16.680000  ...  16.620001  16.760000  15470000.0\n",
              "...            ...    ...        ...  ...        ...        ...         ...\n",
              "849257  2016-12-23   YHOO  38.459999  ...  38.369999  38.810001   3840100.0\n",
              "849757  2016-12-27   YHOO  38.590000  ...  38.500000  39.070000   4240300.0\n",
              "850257  2016-12-28   YHOO  39.119999  ...  38.709999  39.220001   4393500.0\n",
              "850757  2016-12-29   YHOO  38.759998  ...  38.480000  38.930000   4170200.0\n",
              "851257  2016-12-30   YHOO  38.720001  ...  38.430000  39.000000   6431600.0\n",
              "\n",
              "[1762 rows x 7 columns]"
            ]
          },
          "metadata": {
            "tags": []
          },
          "execution_count": 10
        }
      ]
    },
    {
      "cell_type": "code",
      "metadata": {
        "colab": {
          "base_uri": "https://localhost:8080/"
        },
        "id": "EbNHe8GZKZn2",
        "outputId": "38175a0b-bb3e-4cf0-8990-83e2a65e4211"
      },
      "source": [
        "yahoo_stock_prices=yahoo['high']\n",
        "yahoo_stock_prices"
      ],
      "execution_count": null,
      "outputs": [
        {
          "output_type": "execute_result",
          "data": {
            "text/plain": [
              "713       17.200001\n",
              "1181      17.230000\n",
              "1649      17.299999\n",
              "2117      16.900000\n",
              "2585      16.760000\n",
              "            ...    \n",
              "849257    38.810001\n",
              "849757    39.070000\n",
              "850257    39.220001\n",
              "850757    38.930000\n",
              "851257    39.000000\n",
              "Name: high, Length: 1762, dtype: float64"
            ]
          },
          "metadata": {
            "tags": []
          },
          "execution_count": 12
        }
      ]
    },
    {
      "cell_type": "code",
      "metadata": {
        "colab": {
          "base_uri": "https://localhost:8080/"
        },
        "id": "-CBZZWCDMiIE",
        "outputId": "9e20f988-1e63-437b-dc30-e96db3ed7f83"
      },
      "source": [
        "yahoo_stock_prices.shape\n"
      ],
      "execution_count": null,
      "outputs": [
        {
          "output_type": "execute_result",
          "data": {
            "text/plain": [
              "(1762,)"
            ]
          },
          "metadata": {
            "tags": []
          },
          "execution_count": 17
        }
      ]
    },
    {
      "cell_type": "code",
      "metadata": {
        "colab": {
          "base_uri": "https://localhost:8080/"
        },
        "id": "iInmlJ6-MoZR",
        "outputId": "a9cf10c2-60cc-44ad-84e0-c1f71996d896"
      },
      "source": [
        "yahoo_stock_prices = np.array(yahoo_stock_prices).reshape(yahoo_stock_prices.shape[0], 1)\n",
        "yahoo_stock_prices.shape"
      ],
      "execution_count": null,
      "outputs": [
        {
          "output_type": "execute_result",
          "data": {
            "text/plain": [
              "(1762, 1)"
            ]
          },
          "metadata": {
            "tags": []
          },
          "execution_count": 21
        }
      ]
    },
    {
      "cell_type": "code",
      "metadata": {
        "colab": {
          "base_uri": "https://localhost:8080/"
        },
        "id": "JnIXnUqVM7fi",
        "outputId": "a8cfad76-99ae-41d2-bd0e-736a83f3ac88"
      },
      "source": [
        "yahoo_stock_prices"
      ],
      "execution_count": null,
      "outputs": [
        {
          "output_type": "execute_result",
          "data": {
            "text/plain": [
              "array([[17.200001],\n",
              "       [17.23    ],\n",
              "       [17.299999],\n",
              "       ...,\n",
              "       [39.220001],\n",
              "       [38.93    ],\n",
              "       [39.      ]])"
            ]
          },
          "metadata": {
            "tags": []
          },
          "execution_count": 23
        }
      ]
    },
    {
      "cell_type": "markdown",
      "metadata": {
        "id": "lFmunPejLgsi"
      },
      "source": [
        "### Graph for yahoo_stock_prices"
      ]
    },
    {
      "cell_type": "code",
      "metadata": {
        "colab": {
          "base_uri": "https://localhost:8080/",
          "height": 281
        },
        "id": "Sg6o0YA3Kyor",
        "outputId": "204fe801-65ab-411e-bda1-22f437dc920e"
      },
      "source": [
        "plt.plot(yahoo_stock_prices)\n",
        "plt.title(\"high values of yahoo_stock_prices\")\n",
        "plt.show()"
      ],
      "execution_count": null,
      "outputs": [
        {
          "output_type": "display_data",
          "data": {
            "image/png": "[encoded data removed]",
            "text/plain": [
              "<Figure size 432x288 with 1 Axes>"
            ]
          },
          "metadata": {
            "tags": [],
            "needs_background": "light"
          }
        }
      ]
    },
    {
      "cell_type": "markdown",
      "metadata": {
        "id": "1UTx6B-5LmWp"
      },
      "source": [
        "we can observe that stock prices are higher in the range 1250-1500"
      ]
    },
    {
      "cell_type": "markdown",
      "metadata": {
        "id": "KvBXgb2INUv0"
      },
      "source": [
        "#Exe. 3 Now divide the yahoo stock prices into train and test variables.\n",
        "For instance 80% for train and 20% for the test set. Do NOT shuffle the data\n",
        "set because it is a sequential dataset and the its order is important"
      ]
    },
    {
      "cell_type": "code",
      "metadata": {
        "colab": {
          "base_uri": "https://localhost:8080/"
        },
        "id": "BUuznszpNYlz",
        "outputId": "62e65c6d-255a-44c9-8549-bc4b8f074291"
      },
      "source": [
        "train_size= int(0.8*len(yahoo_stock_prices))\n",
        "train_size"
      ],
      "execution_count": null,
      "outputs": [
        {
          "output_type": "execute_result",
          "data": {
            "text/plain": [
              "1409"
            ]
          },
          "metadata": {
            "tags": []
          },
          "execution_count": 28
        }
      ]
    },
    {
      "cell_type": "code",
      "metadata": {
        "colab": {
          "base_uri": "https://localhost:8080/"
        },
        "id": "Hf0k8M3ON3Xa",
        "outputId": "cb132c91-0050-4e21-e146-dc85ea01a3ea"
      },
      "source": [
        "train= yahoo_stock_prices[:train_size,:]\n",
        "train.shape"
      ],
      "execution_count": null,
      "outputs": [
        {
          "output_type": "execute_result",
          "data": {
            "text/plain": [
              "(1409, 1)"
            ]
          },
          "metadata": {
            "tags": []
          },
          "execution_count": 31
        }
      ]
    },
    {
      "cell_type": "code",
      "metadata": {
        "colab": {
          "base_uri": "https://localhost:8080/"
        },
        "id": "qvTJR7IqQ7ng",
        "outputId": "34f7a1d5-8c32-4621-ce44-e0b5352778f2"
      },
      "source": [
        "train"
      ],
      "execution_count": null,
      "outputs": [
        {
          "output_type": "execute_result",
          "data": {
            "text/plain": [
              "array([[17.200001],\n",
              "       [17.23    ],\n",
              "       [17.299999],\n",
              "       ...,\n",
              "       [37.709999],\n",
              "       [37.52    ],\n",
              "       [36.759998]])"
            ]
          },
          "metadata": {
            "tags": []
          },
          "execution_count": 34
        }
      ]
    },
    {
      "cell_type": "code",
      "metadata": {
        "colab": {
          "base_uri": "https://localhost:8080/"
        },
        "id": "oe0nbTHqN9--",
        "outputId": "b7e5bb6c-e709-4144-be7a-f105bd4f54fb"
      },
      "source": [
        "test= yahoo_stock_prices[train_size:,:]\n",
        "test.shape"
      ],
      "execution_count": null,
      "outputs": [
        {
          "output_type": "execute_result",
          "data": {
            "text/plain": [
              "(353, 1)"
            ]
          },
          "metadata": {
            "tags": []
          },
          "execution_count": 32
        }
      ]
    },
    {
      "cell_type": "markdown",
      "metadata": {
        "id": "iC_ORM0rOXPN"
      },
      "source": [
        "#Exe. 4 Since, the sequential data are dependent to their previous data, we have to remodel train and test dataset. How does it work?"
      ]
    },
    {
      "cell_type": "code",
      "metadata": {
        "id": "zIgFa8MCPHzo"
      },
      "source": [
        "import numpy as np\n",
        "def create_dataset ( dataset , look_back ):\n",
        "  dataX=[]\n",
        "  dataY=[]\n",
        "  for i in range(len(dataset)-look_back):\n",
        "    dataX.append(dataset[i:i+look_back,0])\n",
        "    dataY.append(dataset[i+look_back,0])\n",
        "  return dataX , dataY"
      ],
      "execution_count": null,
      "outputs": []
    },
    {
      "cell_type": "code",
      "metadata": {
        "id": "7JHHjdlkPQg4"
      },
      "source": [
        "look_back=2\n",
        "X_train,y_train=create_dataset(train,look_back)\n",
        "X_test,y_test=create_dataset(test,look_back)"
      ],
      "execution_count": null,
      "outputs": []
    },
    {
      "cell_type": "code",
      "metadata": {
        "colab": {
          "base_uri": "https://localhost:8080/"
        },
        "id": "tyfX5_NoS-nV",
        "outputId": "7096c50c-2ab2-44ea-a1dc-fae501aa194a"
      },
      "source": [
        "print(X_train)\n",
        "print(y_train)"
      ],
      "execution_count": null,
      "outputs": [
        {
          "output_type": "stream",
          "text": [
            "[array([17.200001, 17.23    ]), array([17.23    , 17.299999]), array([17.299999, 16.9     ]), array([16.9 , 16.76]), array([16.76, 16.83]), array([16.83    , 16.860001]), array([16.860001, 16.98    ]), array([16.98, 17.23]), array([17.23, 17.25]), array([17.25    , 16.959999]), array([16.959999, 16.68    ]), array([16.68, 16.58]), array([16.58    , 16.209999]), array([16.209999, 16.110001]), array([16.110001, 16.17    ]), array([16.17, 16.49]), array([16.49, 15.96]), array([15.96, 15.67]), array([15.67, 15.3 ]), array([15.3 , 15.32]), array([15.32, 15.6 ]), array([15.6 , 15.52]), array([15.52, 15.25]), array([15.25, 15.47]), array([15.47, 15.24]), array([15.24, 15.02]), array([15.02, 15.25]), array([15.25, 15.19]), array([15.19, 15.48]), array([15.48, 15.52]), array([15.52, 15.6 ]), array([15.6 , 15.71]), array([15.71, 15.68]), array([15.68, 15.51]), array([15.51, 15.71]), array([15.71, 15.35]), array([15.35, 15.41]), array([15.41, 15.83]), array([15.83, 15.96]), array([15.96, 15.85]), array([15.85, 15.85]), array([15.85    , 16.379999]), array([16.379999, 16.610001]), array([16.610001, 16.719999]), array([16.719999, 16.940001]), array([16.940001, 16.65    ]), array([16.65, 16.59]), array([16.59    , 16.639999]), array([16.639999, 16.59    ]), array([16.59    , 16.629999]), array([16.629999, 16.57    ]), array([16.57    , 16.809999]), array([16.809999, 16.540001]), array([16.540001, 16.34    ]), array([16.34    , 16.200001]), array([16.200001, 16.59    ]), array([16.59, 16.57]), array([16.57, 16.68]), array([16.68    , 16.690001]), array([16.690001, 16.58    ]), array([16.58, 16.6 ]), array([16.6     , 16.559999]), array([16.559999, 16.98    ]), array([16.98, 16.92]), array([16.92, 17.41]), array([17.41, 18.07]), array([18.07    , 17.879999]), array([17.879999, 18.299999]), array([18.299999, 18.469999]), array([18.469999, 19.120001]), array([19.120001, 18.68    ]), array([18.68, 18.4 ]), array([18.4     , 18.530001]), array([18.530001, 17.780001]), array([17.780001, 17.780001]), array([17.780001, 17.83    ]), array([17.83    , 17.719999]), array([17.719999, 17.360001]), array([17.360001, 17.      ]), array([17.      , 17.049999]), array([17.049999, 17.129999]), array([17.129999, 16.99    ]), array([16.99, 16.9 ]), array([16.9     , 16.700001]), array([16.700001, 16.51    ]), array([16.51, 15.95]), array([15.95, 16.83]), array([16.83    , 16.639999]), array([16.639999, 16.5     ]), array([16.5, 16.5]), array([16.5 , 16.66]), array([16.66    , 16.469999]), array([16.469999, 16.440001]), array([16.440001, 16.      ]), array([16.  , 15.49]), array([15.49, 15.9 ]), array([15.9 , 15.79]), array([15.79, 15.31]), array([15.31, 15.83]), array([15.83, 15.84]), array([15.84, 15.69]), array([15.69, 15.55]), array([15.55, 15.2 ]), array([15.2, 15.5]), array([15.5 , 15.38]), array([15.38, 15.36]), array([15.36, 15.12]), array([15.12, 15.06]), array([15.06, 15.14]), array([15.14, 15.35]), array([15.35, 15.49]), array([15.49, 15.69]), array([15.69, 15.65]), array([15.65, 15.72]), array([15.72, 15.67]), array([15.67, 15.84]), array([15.84, 15.51]), array([15.51, 15.39]), array([15.39, 15.19]), array([15.19, 14.92]), array([14.92, 14.86]), array([14.86, 14.54]), array([14.54, 14.22]), array([14.22, 14.15]), array([14.15, 14.24]), array([14.24, 14.46]), array([14.46, 14.42]), array([14.42, 14.77]), array([14.77, 14.93]), array([14.93, 15.21]), array([15.21, 15.6 ]), array([15.6 , 15.42]), array([15.42, 15.39]), array([15.39, 15.37]), array([15.37, 15.38]), array([15.38, 15.28]), array([15.28, 14.28]), array([14.28, 14.17]), array([14.17, 14.04]), array([14.04, 14.22]), array([14.22, 14.1 ]), array([14.1 , 13.99]), array([13.99, 13.96]), array([13.96, 13.98]), array([13.98, 14.08]), array([14.08, 14.07]), array([14.07, 14.2 ]), array([14.2 , 14.25]), array([14.25, 14.38]), array([14.38, 14.52]), array([14.52, 14.46]), array([14.46, 14.2 ]), array([14.2 , 13.99]), array([13.99, 13.96]), array([13.96, 13.9 ]), array([13.9, 14. ]), array([14.  , 14.05]), array([14.05, 14.  ]), array([14.  , 13.95]), array([13.95, 13.87]), array([13.87, 13.64]), array([13.64, 13.37]), array([13.37, 13.4 ]), array([13.4 , 13.47]), array([13.47, 13.42]), array([13.42, 13.14]), array([13.14, 13.41]), array([13.41, 13.55]), array([13.55, 13.75]), array([13.75, 13.62]), array([13.62, 13.82]), array([13.82, 13.92]), array([13.92, 13.77]), array([13.77, 13.88]), array([13.88, 13.76]), array([13.76, 14.35]), array([14.35, 14.23]), array([14.23, 14.33]), array([14.33, 14.06]), array([14.06, 14.26]), array([14.26, 14.25]), array([14.25, 14.24]), array([14.24, 14.51]), array([14.51, 14.53]), array([14.53, 14.45]), array([14.45, 14.39]), array([14.39, 14.35]), array([14.35, 14.35]), array([14.35, 14.32]), array([14.32, 14.77]), array([14.77, 14.7 ]), array([14.7 , 14.61]), array([14.61, 14.56]), array([14.56, 14.58]), array([14.58, 14.47]), array([14.47, 15.48]), array([15.48, 16.76]), array([16.76, 16.73]), array([16.73    , 16.280001]), array([16.280001, 15.8     ]), array([15.8 , 16.25]), array([16.25, 16.  ]), array([16.  , 16.41]), array([16.41    , 16.440001]), array([16.440001, 16.48    ]), array([16.48, 16.43]), array([16.43    , 16.450001]), array([16.450001, 16.52    ]), array([16.52, 16.52]), array([16.52, 16.4 ]), array([16.4 , 16.23]), array([16.23, 16.35]), array([16.35, 16.4 ]), array([16.4, 16.5]), array([16.5, 17.6]), array([17.6 , 17.01]), array([17.01    , 16.860001]), array([16.860001, 16.75    ]), array([16.75    , 16.889999]), array([16.889999, 16.49    ]), array([16.49, 16.33]), array([16.33, 17.17]), array([17.17    , 16.969999]), array([16.969999, 16.65    ]), array([16.65, 16.43]), array([16.43, 16.48]), array([16.48, 16.4 ]), array([16.4     , 16.450001]), array([16.450001, 16.34    ]), array([16.34, 16.4 ]), array([16.4 , 16.41]), array([16.41    , 16.370001]), array([16.370001, 16.6     ]), array([16.6 , 17.07]), array([17.07    , 17.219999]), array([17.219999, 17.190001]), array([17.190001, 17.049999]), array([17.049999, 16.99    ]), array([16.99, 16.84]), array([16.84, 16.73]), array([16.73    , 16.700001]), array([16.700001, 16.66    ]), array([16.66, 16.42]), array([16.42, 16.68]), array([16.68    , 16.780001]), array([16.780001, 16.73    ]), array([16.73    , 16.629999]), array([16.629999, 16.540001]), array([16.540001, 16.77    ]), array([16.77, 16.77]), array([16.77, 16.76]), array([16.76    , 16.940001]), array([16.940001, 16.83    ]), array([16.83, 16.91]), array([16.91, 17.34]), array([17.34, 17.17]), array([17.17    , 16.799999]), array([16.799999, 16.73    ]), array([16.73    , 16.809999]), array([16.809999, 16.92    ]), array([16.92, 16.83]), array([16.83, 16.68]), array([16.68    , 16.549999]), array([16.549999, 16.33    ]), array([16.33    , 16.309999]), array([16.309999, 16.24    ]), array([16.24    , 16.190001]), array([16.190001, 16.049999]), array([16.049999, 16.360001]), array([16.360001, 16.209999]), array([16.209999, 16.200001]), array([16.200001, 16.459999]), array([16.459999, 16.66    ]), array([16.66, 16.91]), array([16.91, 16.91]), array([16.91, 17.  ]), array([17.  , 16.85]), array([16.85    , 16.700001]), array([16.700001, 16.719999]), array([16.719999, 16.870001]), array([16.870001, 16.93    ]), array([16.93    , 17.389999]), array([17.389999, 17.82    ]), array([17.82, 17.82]), array([17.82, 17.84]), array([17.84    , 17.389999]), array([17.389999, 17.1     ]), array([17.1 , 16.73]), array([16.73, 16.77]), array([16.77, 16.6 ]), array([16.6 , 16.49]), array([16.49, 16.85]), array([16.85    , 17.049999]), array([17.049999, 17.200001]), array([17.200001, 17.15    ]), array([17.15, 17.02]), array([17.02    , 17.700001]), array([17.700001, 17.389999]), array([17.389999, 17.540001]), array([17.540001, 17.440001]), array([17.440001, 16.68    ]), array([16.68, 16.48]), array([16.48, 16.42]), array([16.42    , 16.190001]), array([16.190001, 16.5     ]), array([16.5 , 16.48]), array([16.48, 16.34]), array([16.34, 16.91]), array([16.91    , 17.049999]), array([17.049999, 17.059999]), array([17.059999, 16.780001]), array([16.780001, 16.92    ]), array([16.92    , 16.879999]), array([16.879999, 16.98    ]), array([16.98    , 17.049999]), array([17.049999, 17.290001]), array([17.290001, 17.200001]), array([17.200001, 17.1     ]), array([17.1     , 17.110001]), array([17.110001, 16.959999]), array([16.959999, 16.639999]), array([16.639999, 16.690001]), array([16.690001, 16.82    ]), array([16.82    , 16.780001]), array([16.780001, 16.440001]), array([16.440001, 16.360001]), array([16.360001, 17.23    ]), array([17.23    , 16.940001]), array([16.940001, 17.309999]), array([17.309999, 17.370001]), array([17.370001, 17.43    ]), array([17.43    , 17.530001]), array([17.530001, 17.77    ]), array([17.77, 18.35]), array([18.35    , 18.639999]), array([18.639999, 18.379999]), array([18.379999, 18.559999]), array([18.559999, 18.799999]), array([18.799999, 18.84    ]), array([18.84    , 18.700001]), array([18.700001, 18.610001]), array([18.610001, 17.809999]), array([17.809999, 16.84    ]), array([16.84    , 16.690001]), array([16.690001, 16.07    ]), array([16.07, 16.16]), array([16.16, 16.49]), array([16.49    , 16.440001]), array([16.440001, 16.17    ]), array([16.17, 16.41]), array([16.41, 16.99]), array([16.99    , 16.219999]), array([16.219999, 16.190001]), array([16.190001, 16.59    ]), array([16.59, 16.43]), array([16.43    , 16.110001]), array([16.110001, 16.      ]), array([16.  , 15.85]), array([15.85, 15.65]), array([15.65, 15.38]), array([15.38, 15.33]), array([15.33, 15.73]), array([15.73, 15.34]), array([15.34, 15.56]), array([15.56, 15.05]), array([15.05, 15.09]), array([15.09, 14.98]), array([14.98, 15.42]), array([15.42, 15.38]), array([15.38, 15.53]), array([15.53, 15.09]), array([15.09, 15.16]), array([15.16, 14.98]), array([14.98, 15.18]), array([15.18, 15.05]), array([15.05, 15.1 ]), array([15.1, 15.5]), array([15.5 , 15.67]), array([15.67, 15.81]), array([15.81, 15.95]), array([15.95, 15.69]), array([15.69, 15.44]), array([15.44, 15.18]), array([15.18, 15.1 ]), array([15.1 , 14.99]), array([14.99, 14.94]), array([14.94, 14.69]), array([14.69, 14.69]), array([14.69, 14.15]), array([14.15, 13.63]), array([13.63, 14.05]), array([14.05, 13.88]), array([13.88, 13.99]), array([13.99, 13.9 ]), array([13.9 , 13.71]), array([13.71, 14.07]), array([14.07, 13.34]), array([13.34, 13.18]), array([13.18, 13.07]), array([13.07, 12.86]), array([12.86, 12.12]), array([12.12, 11.8 ]), array([11.8 , 12.09]), array([12.09, 12.14]), array([12.14, 12.92]), array([12.92, 13.62]), array([13.62, 13.69]), array([13.69, 13.57]), array([13.57, 13.62]), array([13.62, 13.09]), array([13.09, 13.08]), array([13.08, 13.23]), array([13.23, 13.35]), array([13.35, 13.3 ]), array([13.3 , 13.21]), array([13.21, 12.89]), array([12.89, 13.68]), array([13.68, 13.98]), array([13.98, 13.94]), array([13.94, 13.78]), array([13.78, 13.13]), array([13.13, 12.95]), array([12.95, 14.  ]), array([14.  , 14.49]), array([14.49, 14.57]), array([14.57, 14.28]), array([14.28, 14.34]), array([14.34, 14.94]), array([14.94, 15.4 ]), array([15.4 , 15.34]), array([15.34, 14.79]), array([14.79, 14.66]), array([14.66, 14.6 ]), array([14.6 , 14.25]), array([14.25, 14.83]), array([14.83, 14.8 ]), array([14.8, 15. ]), array([15.  , 14.62]), array([14.62, 14.39]), array([14.39, 13.44]), array([13.44, 14.04]), array([14.04, 14.48]), array([14.48, 16.15]), array([16.15, 15.8 ]), array([15.8 , 15.75]), array([15.75    , 16.040001]), array([16.040001, 15.95    ]), array([15.95, 15.95]), array([15.95    , 16.370001]), array([16.370001, 16.15    ]), array([16.15    , 16.040001]), array([16.040001, 15.74    ]), array([15.74    , 16.790001]), array([16.790001, 16.49    ]), array([16.49    , 16.389999]), array([16.389999, 16.75    ]), array([16.75    , 16.700001]), array([16.700001, 16.440001]), array([16.440001, 16.700001]), array([16.700001, 16.700001]), array([16.700001, 16.07    ]), array([16.07, 15.08]), array([15.08, 15.3 ]), array([15.3, 15.5]), array([15.5 , 15.54]), array([15.54, 15.7 ]), array([15.7 , 16.18]), array([16.18, 16.5 ]), array([16.5     , 16.219999]), array([16.219999, 16.309999]), array([16.309999, 16.309999]), array([16.309999, 16.049999]), array([16.049999, 16.1     ]), array([16.1 , 15.77]), array([15.77, 15.69]), array([15.69, 15.19]), array([15.19, 15.08]), array([15.08, 15.24]), array([15.24, 15.25]), array([15.25, 15.47]), array([15.47, 15.94]), array([15.94    , 16.040001]), array([16.040001, 16.459999]), array([16.459999, 16.41    ]), array([16.41    , 16.139999]), array([16.139999, 16.049999]), array([16.049999, 15.86    ]), array([15.86, 15.76]), array([15.76, 15.96]), array([15.96, 15.72]), array([15.72, 15.74]), array([15.74, 15.28]), array([15.28, 15.29]), array([15.29, 15.26]), array([15.26, 15.  ]), array([15.  , 15.19]), array([15.19, 16.24]), array([16.24, 16.4 ]), array([16.4 , 16.26]), array([16.26, 16.17]), array([16.17    , 16.049999]), array([16.049999, 16.23    ]), array([16.23    , 16.209999]), array([16.209999, 16.389999]), array([16.389999, 16.16    ]), array([16.16, 15.69]), array([15.69, 15.66]), array([15.66, 15.61]), array([15.61, 15.71]), array([15.71, 15.62]), array([15.62, 15.73]), array([15.73, 15.67]), array([15.67, 15.66]), array([15.66, 16.  ]), array([16.  , 16.15]), array([16.15    , 16.110001]), array([16.110001, 15.93    ]), array([15.93, 15.81]), array([15.81, 15.71]), array([15.71, 15.69]), array([15.69, 15.8 ]), array([15.8 , 15.65]), array([15.65, 15.62]), array([15.62, 15.8 ]), array([15.8 , 15.82]), array([15.82, 15.98]), array([15.98, 15.95]), array([15.95, 15.89]), array([15.89, 15.97]), array([15.97, 16.1 ]), array([16.1     , 16.309999]), array([16.309999, 16.24    ]), array([16.24, 16.1 ]), array([16.1, 15.3]), array([15.3 , 15.38]), array([15.38, 15.44]), array([15.44, 15.07]), array([15.07, 14.75]), array([14.75, 14.81]), array([14.81, 14.97]), array([14.97, 14.91]), array([14.91, 14.99]), array([14.99, 14.93]), array([14.93, 14.96]), array([14.96, 14.92]), array([14.92, 14.95]), array([14.95, 14.69]), array([14.69, 14.71]), array([14.71, 14.77]), array([14.77, 14.7 ]), array([14.7 , 14.76]), array([14.76, 14.62]), array([14.62, 14.64]), array([14.64, 14.98]), array([14.98, 15.18]), array([15.18, 15.22]), array([15.22, 15.61]), array([15.61, 15.61]), array([15.61, 15.56]), array([15.56, 15.59]), array([15.59, 15.56]), array([15.56, 15.55]), array([15.55, 15.48]), array([15.48, 15.34]), array([15.34, 15.42]), array([15.42, 15.51]), array([15.51, 15.43]), array([15.43, 15.34]), array([15.34, 15.26]), array([15.26, 15.25]), array([15.25, 15.18]), array([15.18, 15.08]), array([15.08, 15.1 ]), array([15.1 , 15.18]), array([15.18, 15.04]), array([15.04, 15.18]), array([15.18, 15.57]), array([15.57, 15.57]), array([15.57, 15.7 ]), array([15.7 , 15.47]), array([15.47, 15.52]), array([15.52, 15.51]), array([15.51, 15.55]), array([15.55, 15.62]), array([15.62, 15.57]), array([15.57, 15.73]), array([15.73, 15.77]), array([15.77, 15.65]), array([15.65, 15.29]), array([15.29, 15.49]), array([15.49, 15.44]), array([15.44, 15.45]), array([15.45, 15.54]), array([15.54, 15.44]), array([15.44, 15.77]), array([15.77, 15.55]), array([15.55, 15.57]), array([15.57, 15.37]), array([15.37, 15.87]), array([15.87, 16.  ]), array([16.  , 15.61]), array([15.61, 15.43]), array([15.43, 15.51]), array([15.51, 15.48]), array([15.48, 15.55]), array([15.55, 15.34]), array([15.34, 15.37]), array([15.37, 15.12]), array([15.12, 15.03]), array([15.03, 15.14]), array([15.14, 15.41]), array([15.41, 15.5 ]), array([15.5 , 15.68]), array([15.68, 15.73]), array([15.73, 15.52]), array([15.52, 15.49]), array([15.49, 15.46]), array([15.46, 15.44]), array([15.44, 15.54]), array([15.54, 15.69]), array([15.69, 15.75]), array([15.75, 15.8 ]), array([15.8, 15.7]), array([15.7 , 15.55]), array([15.55, 15.47]), array([15.47, 15.63]), array([15.63, 15.48]), array([15.48, 15.83]), array([15.83, 15.94]), array([15.94, 15.99]), array([15.99, 15.99]), array([15.99, 15.91]), array([15.91, 15.84]), array([15.84, 15.98]), array([15.98, 15.94]), array([15.94, 15.81]), array([15.81, 15.84]), array([15.84, 15.8 ]), array([15.8 , 15.89]), array([15.89, 15.75]), array([15.75, 15.86]), array([15.86, 15.94]), array([15.94, 15.81]), array([15.81, 15.76]), array([15.76, 15.64]), array([15.64, 15.88]), array([15.88, 16.17]), array([16.17, 16.15]), array([16.15    , 16.059999]), array([16.059999, 16.07    ]), array([16.07, 16.  ]), array([16.      , 16.030001]), array([16.030001, 16.07    ]), array([16.07    , 16.370001]), array([16.370001, 16.32    ]), array([16.32, 16.16]), array([16.16, 15.35]), array([15.35, 15.21]), array([15.21, 15.05]), array([15.05, 14.86]), array([14.86, 15.01]), array([15.01, 15.07]), array([15.07, 15.05]), array([15.05, 15.01]), array([15.01, 14.99]), array([14.99, 14.97]), array([14.97, 14.94]), array([14.94, 14.93]), array([14.93, 14.87]), array([14.87, 14.94]), array([14.94, 14.84]), array([14.84, 14.82]), array([14.82, 14.98]), array([14.98, 15.14]), array([15.14, 15.15]), array([15.15, 15.29]), array([15.29, 15.28]), array([15.28, 15.25]), array([15.25, 15.55]), array([15.55, 15.69]), array([15.69, 15.84]), array([15.84, 15.84]), array([15.84, 16.17]), array([16.17    , 16.129999]), array([16.129999, 15.86    ]), array([15.86, 15.82]), array([15.82    , 16.040001]), array([16.040001, 16.09    ]), array([16.09, 15.81]), array([15.81    , 16.200001]), array([16.200001, 16.09    ]), array([16.09, 16.09]), array([16.09    , 16.040001]), array([16.040001, 16.24    ]), array([16.24, 16.35]), array([16.35    , 16.379999]), array([16.379999, 16.16    ]), array([16.16    , 16.049999]), array([16.049999, 15.99    ]), array([15.99, 16.02]), array([16.02, 16.02]), array([16.02, 15.87]), array([15.87, 15.98]), array([15.98    , 16.120001]), array([16.120001, 16.24    ]), array([16.24    , 16.030001]), array([16.030001, 15.95    ]), array([15.95    , 16.790001]), array([16.790001, 16.799999]), array([16.799999, 16.77    ]), array([16.77, 16.82]), array([16.82    , 16.889999]), array([16.889999, 17.049999]), array([17.049999, 17.139999]), array([17.139999, 17.43    ]), array([17.43    , 17.530001]), array([17.530001, 17.559999]), array([17.559999, 17.5     ]), array([17.5 , 17.52]), array([17.52    , 17.559999]), array([17.559999, 17.85    ]), array([17.85, 18.08]), array([18.08, 18.16]), array([18.16, 18.02]), array([18.02    , 18.370001]), array([18.370001, 18.5     ]), array([18.5, 18.5]), array([18.5 , 18.59]), array([18.59, 19.  ]), array([19.  , 19.16]), array([19.16    , 18.950001]), array([18.950001, 19.030001]), array([19.030001, 18.950001]), array([18.950001, 18.84    ]), array([18.84    , 18.959999]), array([18.959999, 19.030001]), array([19.030001, 19.280001]), array([19.280001, 19.299999]), array([19.299999, 19.469999]), array([19.469999, 19.629999]), array([19.629999, 19.6     ]), array([19.6     , 19.540001]), array([19.540001, 19.719999]), array([19.719999, 19.74    ]), array([19.74, 19.76]), array([19.76    , 19.690001]), array([19.690001, 19.709999]), array([19.709999, 19.49    ]), array([19.49, 19.66]), array([19.66, 19.75]), array([19.75, 19.67]), array([19.67, 19.57]), array([19.57    , 19.969999]), array([19.969999, 20.32    ]), array([20.32, 20.1 ]), array([20.1     , 19.950001]), array([19.950001, 19.58    ]), array([19.58, 19.68]), array([19.68, 19.75]), array([19.75    , 19.379999]), array([19.379999, 19.379999]), array([19.379999, 19.540001]), array([19.540001, 19.540001]), array([19.540001, 20.139999]), array([20.139999, 20.209999]), array([20.209999, 20.17    ]), array([20.17    , 19.950001]), array([19.950001, 20.190001]), array([20.190001, 20.52    ]), array([20.52, 20.48]), array([20.48, 20.5 ]), array([20.5     , 20.879999]), array([20.879999, 20.120001]), array([20.120001, 19.99    ]), array([19.99, 19.83]), array([19.83    , 19.809999]), array([19.809999, 19.780001]), array([19.780001, 19.9     ]), array([19.9 , 20.43]), array([20.43    , 20.610001]), array([20.610001, 20.98    ]), array([20.98, 21.4 ]), array([21.4 , 21.43]), array([21.43, 21.26]), array([21.26, 21.25]), array([21.25, 21.41]), array([21.41    , 21.450001]), array([21.450001, 21.      ]), array([21.      , 21.309999]), array([21.309999, 21.32    ]), array([21.32, 20.85]), array([20.85    , 21.309999]), array([21.309999, 21.57    ]), array([21.57    , 22.280001]), array([22.280001, 22.74    ]), array([22.74, 23.08]), array([23.08, 23.09]), array([23.09, 23.  ]), array([23.      , 22.959999]), array([22.959999, 23.      ]), array([23.  , 22.58]), array([22.58, 22.48]), array([22.48, 22.75]), array([22.75    , 22.389999]), array([22.389999, 22.17    ]), array([22.17, 22.33]), array([22.33, 22.33]), array([22.33    , 22.950001]), array([22.950001, 23.26    ]), array([23.26    , 23.879999]), array([23.879999, 23.620001]), array([23.620001, 23.83    ]), array([23.83, 23.77]), array([23.77    , 23.620001]), array([23.620001, 23.9     ]), array([23.9     , 23.879999]), array([23.879999, 23.719999]), array([23.719999, 23.41    ]), array([23.41, 23.48]), array([23.48, 24.  ]), array([24.  , 24.32]), array([24.32, 24.57]), array([24.57    , 24.799999]), array([24.799999, 24.99    ]), array([24.99, 24.26]), array([24.26, 24.1 ]), array([24.1     , 23.700001]), array([23.700001, 23.629999]), array([23.629999, 23.959999]), array([23.959999, 24.450001]), array([24.450001, 24.969999]), array([24.969999, 25.290001]), array([25.290001, 25.370001]), array([25.370001, 24.91    ]), array([24.91    , 24.790001]), array([24.790001, 24.719999]), array([24.719999, 24.969999]), array([24.969999, 25.25    ]), array([25.25, 25.34]), array([25.34    , 26.790001]), array([26.790001, 26.66    ]), array([26.66, 26.49]), array([26.49    , 26.860001]), array([26.860001, 26.83    ]), array([26.83    , 26.870001]), array([26.870001, 27.68    ]), array([27.68, 27.43]), array([27.43, 26.98]), array([26.98    , 27.049999]), array([27.049999, 27.129999]), array([27.129999, 27.190001]), array([27.190001, 26.27    ]), array([26.27, 26.48]), array([26.48, 26.77]), array([26.77    , 26.040001]), array([26.040001, 26.5     ]), array([26.5, 26.6]), array([26.6     , 26.620001]), array([26.620001, 26.57    ]), array([26.57, 26.25]), array([26.25    , 26.209999]), array([26.209999, 27.09    ]), array([27.09    , 27.120001]), array([27.120001, 26.879999]), array([26.879999, 26.530001]), array([26.530001, 26.459999]), array([26.459999, 26.549999]), array([26.549999, 26.85    ]), array([26.85    , 26.889999]), array([26.889999, 26.780001]), array([26.780001, 26.049999]), array([26.049999, 25.43    ]), array([25.43, 25.09]), array([25.09, 25.01]), array([25.01, 25.68]), array([25.68, 25.98]), array([25.98    , 25.540001]), array([25.540001, 25.540001]), array([25.540001, 25.5     ]), array([25.5     , 25.639999]), array([25.639999, 26.26    ]), array([26.26, 25.99]), array([25.99    , 26.700001]), array([26.700001, 27.07    ]), array([27.07    , 27.190001]), array([27.190001, 27.440001]), array([27.440001, 27.469999]), array([27.469999, 27.450001]), array([27.450001, 29.73    ]), array([29.73, 29.83]), array([29.83    , 29.719999]), array([29.719999, 28.42    ]), array([28.42    , 28.040001]), array([28.040001, 27.92    ]), array([27.92    , 28.459999]), array([28.459999, 28.34    ]), array([28.34, 28.33]), array([28.33, 28.23]), array([28.23    , 28.209999]), array([28.209999, 28.450001]), array([28.450001, 28.09    ]), array([28.09    , 27.799999]), array([27.799999, 27.75    ]), array([27.75, 27.51]), array([27.51    , 27.620001]), array([27.620001, 27.700001]), array([27.700001, 28.370001]), array([28.370001, 28.6     ]), array([28.6     , 28.209999]), array([28.209999, 27.83    ]), array([27.83, 27.6 ]), array([27.6     , 27.440001]), array([27.440001, 27.309999]), array([27.309999, 27.49    ]), array([27.49, 28.01]), array([28.01, 28.32]), array([28.32    , 28.040001]), array([28.040001, 27.459999]), array([27.459999, 27.24    ]), array([27.24    , 27.450001]), array([27.450001, 27.440001]), array([27.440001, 27.870001]), array([27.870001, 28.120001]), array([28.120001, 28.35    ]), array([28.35, 28.5 ]), array([28.5 , 29.32]), array([29.32    , 29.629999]), array([29.629999, 29.41    ]), array([29.41, 30.27]), array([30.27    , 29.469999]), array([29.469999, 30.040001]), array([30.040001, 30.      ]), array([30.      , 30.459999]), array([30.459999, 31.049999]), array([31.049999, 31.1     ]), array([31.1     , 31.030001]), array([31.030001, 31.66    ]), array([31.66    , 32.029999]), array([32.029999, 33.      ]), array([33.      , 33.849998]), array([33.849998, 33.75    ]), array([33.75    , 34.439999]), array([34.439999, 34.700001]), array([34.700001, 34.360001]), array([34.360001, 35.060001]), array([35.060001, 34.689999]), array([34.689999, 34.5     ]), array([34.5     , 33.330002]), array([33.330002, 33.91    ]), array([33.91    , 34.369999]), array([34.369999, 34.099998]), array([34.099998, 34.32    ]), array([34.32    , 34.110001]), array([34.110001, 33.009998]), array([33.009998, 33.75    ]), array([33.75    , 34.349998]), array([34.349998, 34.599998]), array([34.599998, 33.84    ]), array([33.84    , 33.310001]), array([33.310001, 32.950001]), array([32.950001, 32.700001]), array([32.700001, 34.      ]), array([34.  , 33.48]), array([33.48    , 33.119999]), array([33.119999, 33.349998]), array([33.349998, 33.66    ]), array([33.66    , 33.080002]), array([33.080002, 33.299999]), array([33.299999, 33.049999]), array([33.049999, 33.119999]), array([33.119999, 33.990002]), array([33.990002, 34.52    ]), array([34.52    , 35.119999]), array([35.119999, 35.889999]), array([35.889999, 35.939999]), array([35.939999, 36.189999]), array([36.189999, 35.169998]), array([35.169998, 36.220001]), array([36.220001, 36.66    ]), array([36.66    , 36.630001]), array([36.630001, 36.849998]), array([36.849998, 36.75    ]), array([36.75    , 37.119999]), array([37.119999, 37.349998]), array([37.349998, 37.150002]), array([37.150002, 37.07    ]), array([37.07    , 38.150002]), array([38.150002, 39.310001]), array([39.310001, 39.279999]), array([39.279999, 39.200001]), array([39.200001, 40.25    ]), array([40.25, 40.16]), array([40.16, 40.  ]), array([40.      , 40.200001]), array([40.200001, 40.27    ]), array([40.27, 40.  ]), array([40.      , 40.040001]), array([40.040001, 40.380001]), array([40.380001, 40.599998]), array([40.599998, 40.799999]), array([40.799999, 40.950001]), array([40.950001, 41.049999]), array([41.049999, 40.75    ]), array([40.75    , 40.580002]), array([40.580002, 40.5     ]), array([40.5     , 40.490002]), array([40.490002, 40.439999]), array([40.439999, 40.32    ]), array([40.32    , 41.200001]), array([41.200001, 41.720001]), array([41.720001, 41.349998]), array([41.349998, 41.349998]), array([41.349998, 41.220001]), array([41.220001, 41.139999]), array([41.139999, 41.310001]), array([41.310001, 40.75    ]), array([40.75    , 40.439999]), array([40.439999, 40.049999]), array([40.049999, 40.400002]), array([40.400002, 39.77    ]), array([39.77, 38.98]), array([38.98    , 37.939999]), array([37.939999, 38.32    ]), array([38.32    , 36.310001]), array([36.310001, 35.810001]), array([35.810001, 36.330002]), array([36.330002, 36.009998]), array([36.009998, 35.860001]), array([35.860001, 35.939999]), array([35.939999, 36.75    ]), array([36.75, 37.27]), array([37.27    , 38.130001]), array([38.130001, 38.860001]), array([38.860001, 38.91    ]), array([38.91    , 38.689999]), array([38.689999, 38.450001]), array([38.450001, 38.59    ]), array([38.59    , 38.330002]), array([38.330002, 38.040001]), array([38.040001, 37.959999]), array([37.959999, 37.709999]), array([37.709999, 37.580002]), array([37.580002, 38.099998]), array([38.099998, 38.48    ]), array([38.48    , 39.380001]), array([39.380001, 38.66    ]), array([38.66    , 39.790001]), array([39.790001, 40.150002]), array([40.150002, 39.98    ]), array([39.98, 39.91]), array([39.91    , 38.779999]), array([38.779999, 38.299999]), array([38.299999, 37.610001]), array([37.610001, 38.419998]), array([38.419998, 38.189999]), array([38.189999, 39.360001]), array([39.360001, 39.509998]), array([39.509998, 39.939999]), array([39.939999, 38.470001]), array([38.470001, 38.27    ]), array([38.27    , 38.040001]), array([38.040001, 37.07    ]), array([37.07    , 36.740002]), array([36.740002, 36.150002]), array([36.150002, 36.73    ]), array([36.73    , 36.580002]), array([36.580002, 36.860001]), array([36.860001, 36.860001]), array([36.860001, 36.790001]), array([36.790001, 36.049999]), array([36.049999, 34.369999]), array([34.369999, 34.43    ]), array([34.43, 35.  ]), array([35.  , 34.98]), array([34.98, 33.48]), array([33.48    , 34.040001]), array([34.040001, 34.279999]), array([34.279999, 37.299999]), array([37.299999, 36.599998]), array([36.599998, 36.650002]), array([36.650002, 36.849998]), array([36.849998, 36.189999]), array([36.189999, 35.82    ]), array([35.82    , 35.099998]), array([35.099998, 35.      ]), array([35.      , 35.889999]), array([35.889999, 36.439999]), array([36.439999, 36.689999]), array([36.689999, 37.119999]), array([37.119999, 37.049999]), array([37.049999, 37.169998]), array([37.169998, 35.990002]), array([35.990002, 34.57    ]), array([34.57    , 34.099998]), array([34.099998, 34.599998]), array([34.599998, 34.689999]), array([34.689999, 34.650002]), array([34.650002, 34.189999]), array([34.189999, 33.66    ]), array([33.66    , 33.990002]), array([33.990002, 34.470001]), array([34.470001, 34.389999]), array([34.389999, 34.860001]), array([34.860001, 35.080002]), array([35.080002, 35.130001]), array([35.130001, 35.169998]), array([35.169998, 35.099998]), array([35.099998, 34.93    ]), array([34.93    , 34.950001]), array([34.950001, 34.970001]), array([34.970001, 34.830002]), array([34.830002, 34.990002]), array([34.990002, 36.080002]), array([36.080002, 36.32    ]), array([36.32, 36.52]), array([36.52, 36.84]), array([36.84    , 36.790001]), array([36.790001, 37.060001]), array([37.060001, 35.490002]), array([35.490002, 34.939999]), array([34.939999, 35.009998]), array([35.009998, 35.200001]), array([35.200001, 34.810001]), array([34.810001, 34.220001]), array([34.220001, 33.990002]), array([33.990002, 33.650002]), array([33.650002, 33.75    ]), array([33.75    , 34.549999]), array([34.549999, 35.259998]), array([35.259998, 35.700001]), array([35.700001, 35.91    ]), array([35.91    , 36.150002]), array([36.150002, 36.23    ]), array([36.23, 35.66]), array([35.66, 35.07]), array([35.07    , 34.970001]), array([34.970001, 35.560001]), array([35.560001, 35.950001]), array([35.950001, 35.939999]), array([35.939999, 34.450001]), array([34.450001, 33.900002]), array([33.900002, 33.349998]), array([33.349998, 33.639999]), array([33.639999, 33.84    ]), array([33.84    , 34.919998]), array([34.919998, 36.549999]), array([36.549999, 36.330002]), array([36.330002, 36.23    ]), array([36.23, 36.16]), array([36.16    , 36.990002]), array([36.990002, 36.490002]), array([36.490002, 36.080002]), array([36.080002, 36.66    ]), array([36.66    , 36.419998]), array([36.419998, 35.939999]), array([35.939999, 36.      ]), array([36.      , 35.959999]), array([35.959999, 36.150002]), array([36.150002, 35.990002]), array([35.990002, 36.450001]), array([36.450001, 36.419998]), array([36.419998, 36.57    ]), array([36.57, 37.77]), array([37.77    , 37.939999]), array([37.939999, 37.75    ]), array([37.75, 37.75]), array([37.75    , 38.200001]), array([38.200001, 38.220001]), array([38.220001, 37.919998]), array([37.919998, 38.720001]), array([38.720001, 38.57    ]), array([38.57    , 38.669998]), array([38.669998, 39.299999]), array([39.299999, 39.599998]), array([39.599998, 39.34    ]), array([39.34    , 39.799999]), array([39.799999, 41.82    ]), array([41.82    , 42.060001]), array([42.060001, 41.23    ]), array([41.23    , 41.560001]), array([41.560001, 43.200001]), array([43.200001, 44.009998]), array([44.009998, 42.959999]), array([42.959999, 42.959999]), array([42.959999, 43.32    ]), array([43.32    , 43.189999]), array([43.189999, 40.040001]), array([40.040001, 39.27    ]), array([39.27    , 40.099998]), array([40.099998, 39.799999]), array([39.799999, 40.799999]), array([40.799999, 41.09    ]), array([41.09, 41.23]), array([41.23    , 41.240002]), array([41.240002, 40.639999]), array([40.639999, 41.689999]), array([41.689999, 41.73    ]), array([41.73    , 41.290001]), array([41.290001, 41.290001]), array([41.290001, 41.25    ]), array([41.25, 41.07]), array([41.07, 40.07]), array([40.07, 39.  ]), array([39.      , 38.080002]), array([38.080002, 38.5     ]), array([38.5 , 38.98]), array([38.98    , 39.400002]), array([39.400002, 40.48    ]), array([40.48    , 42.880001]), array([42.880001, 42.830002]), array([42.830002, 43.650002]), array([43.650002, 44.82    ]), array([44.82    , 46.150002]), array([46.150002, 45.98    ]), array([45.98, 45.84]), array([45.84, 46.52]), array([46.52    , 46.720001]), array([46.720001, 47.130001]), array([47.130001, 48.279999]), array([48.279999, 47.98    ]), array([47.98    , 48.669998]), array([48.669998, 49.630001]), array([49.630001, 49.18    ]), array([49.18    , 50.630001]), array([50.630001, 51.169998]), array([51.169998, 51.950001]), array([51.950001, 52.419998]), array([52.419998, 52.619999]), array([52.619999, 51.369999]), array([51.369999, 52.23    ]), array([52.23, 52.25]), array([52.25    , 51.830002]), array([51.830002, 52.189999]), array([52.189999, 52.259998]), array([52.259998, 52.      ]), array([52.  , 51.43]), array([51.43    , 51.119999]), array([51.119999, 50.970001]), array([50.970001, 50.669998]), array([50.669998, 51.25    ]), array([51.25    , 50.900002]), array([50.900002, 50.529999]), array([50.529999, 50.689999]), array([50.689999, 50.580002]), array([50.580002, 51.169998]), array([51.169998, 50.919998]), array([50.919998, 50.080002]), array([50.080002, 50.25    ]), array([50.25    , 51.150002]), array([51.150002, 51.470001]), array([51.470001, 51.599998]), array([51.599998, 51.459999]), array([51.459999, 50.919998]), array([50.919998, 51.060001]), array([51.060001, 51.009998]), array([51.009998, 51.27    ]), array([51.27, 51.68]), array([51.68    , 50.779999]), array([50.779999, 49.880001]), array([49.880001, 49.880001]), array([49.880001, 49.639999]), array([49.639999, 50.23    ]), array([50.23, 50.41]), array([50.41, 49.93]), array([49.93, 49.48]), array([49.48, 48.09]), array([48.09, 47.75]), array([47.75, 46.59]), array([46.59    , 47.889999]), array([47.889999, 48.380001]), array([48.380001, 49.080002]), array([49.080002, 49.23    ]), array([49.23    , 49.790001]), array([49.790001, 49.279999]), array([49.279999, 50.32    ]), array([50.32    , 43.799999]), array([43.799999, 44.849998]), array([44.849998, 44.759998]), array([44.759998, 45.25    ]), array([45.25, 44.98]), array([44.98    , 44.259998]), array([44.259998, 43.66    ]), array([43.66    , 43.150002]), array([43.150002, 43.18    ]), array([43.18    , 43.259998]), array([43.259998, 44.16    ]), array([44.16, 44.59]), array([44.59    , 44.540001]), array([44.540001, 43.82    ]), array([43.82    , 44.419998]), array([44.419998, 44.360001]), array([44.360001, 43.990002]), array([43.990002, 43.52    ]), array([43.52    , 44.720001]), array([44.720001, 44.759998]), array([44.759998, 44.57    ]), array([44.57, 44.43]), array([44.43    , 43.950001]), array([43.950001, 44.380001]), array([44.380001, 44.310001]), array([44.310001, 44.240002]), array([44.240002, 43.93    ]), array([43.93    , 42.919998]), array([42.919998, 42.990002]), array([42.990002, 43.360001]), array([43.360001, 42.98    ]), array([42.98    , 43.880001]), array([43.880001, 44.16    ]), array([44.16    , 44.709999]), array([44.709999, 45.450001]), array([45.450001, 45.580002]), array([45.580002, 45.540001]), array([45.540001, 44.779999]), array([44.779999, 44.93    ]), array([44.93    , 44.669998]), array([44.669998, 45.669998]), array([45.669998, 45.419998]), array([45.419998, 45.200001]), array([45.200001, 44.599998]), array([44.599998, 44.360001]), array([44.360001, 44.029999]), array([44.029999, 44.220001]), array([44.220001, 45.189999]), array([45.189999, 46.169998]), array([46.169998, 45.790001]), array([45.790001, 45.59    ]), array([45.59    , 45.639999]), array([45.639999, 45.830002]), array([45.830002, 46.130001]), array([46.130001, 45.439999]), array([45.439999, 44.91    ]), array([44.91, 45.18]), array([45.18    , 44.849998]), array([44.849998, 44.060001]), array([44.060001, 44.709999]), array([44.709999, 45.099998]), array([45.099998, 44.57    ]), array([44.57    , 44.049999]), array([44.049999, 43.310001]), array([43.310001, 42.68    ]), array([42.68    , 42.549999]), array([42.549999, 42.      ]), array([42.  , 41.73]), array([41.73, 44.98]), array([44.98    , 44.549999]), array([44.549999, 44.139999]), array([44.139999, 44.310001]), array([44.310001, 44.669998]), array([44.669998, 44.990002]), array([44.990002, 45.07    ]), array([45.07, 44.57]), array([44.57, 44.66]), array([44.66    , 43.040001]), array([43.040001, 43.869999]), array([43.869999, 44.      ]), array([44. , 43.5]), array([43.5     , 43.439999]), array([43.439999, 43.419998]), array([43.419998, 43.59    ]), array([43.59    , 43.630001]), array([43.630001, 43.619999]), array([43.619999, 43.779999]), array([43.779999, 43.439999]), array([43.439999, 43.259998]), array([43.259998, 42.889999]), array([42.889999, 41.950001]), array([41.950001, 42.310001]), array([42.310001, 42.209999]), array([42.209999, 41.110001]), array([41.110001, 40.669998]), array([40.669998, 41.400002]), array([41.400002, 41.52    ]), array([41.52, 41.27]), array([41.27, 40.93]), array([40.93    , 40.889999]), array([40.889999, 40.799999]), array([40.799999, 41.23    ]), array([41.23    , 41.389999]), array([41.389999, 40.869999]), array([40.869999, 39.779999]), array([39.779999, 39.650002]), array([39.650002, 39.779999]), array([39.779999, 39.639999]), array([39.639999, 39.119999]), array([39.119999, 38.380001]), array([38.380001, 37.490002]), array([37.490002, 38.68    ]), array([38.68    , 38.419998]), array([38.419998, 38.799999]), array([38.799999, 39.029999]), array([39.029999, 38.799999]), array([38.799999, 38.959999]), array([38.959999, 39.790001]), array([39.790001, 39.98    ]), array([39.98    , 39.849998]), array([39.849998, 39.630001]), array([39.630001, 39.779999]), array([39.779999, 39.580002]), array([39.580002, 38.310001]), array([38.310001, 37.919998]), array([37.919998, 37.919998]), array([37.919998, 37.689999]), array([37.689999, 37.57    ]), array([37.57, 36.98]), array([36.98    , 37.209999]), array([37.209999, 37.709999]), array([37.709999, 37.52    ])]\n",
            "[17.299999, 16.9, 16.76, 16.83, 16.860001, 16.98, 17.23, 17.25, 16.959999, 16.68, 16.58, 16.209999, 16.110001, 16.17, 16.49, 15.96, 15.67, 15.3, 15.32, 15.6, 15.52, 15.25, 15.47, 15.24, 15.02, 15.25, 15.19, 15.48, 15.52, 15.6, 15.71, 15.68, 15.51, 15.71, 15.35, 15.41, 15.83, 15.96, 15.85, 15.85, 16.379998999999998, 16.610001, 16.719998999999998, 16.940001000000002, 16.65, 16.59, 16.639999, 16.59, 16.629998999999998, 16.57, 16.809998999999998, 16.540001, 16.34, 16.200001, 16.59, 16.57, 16.68, 16.690001000000002, 16.58, 16.6, 16.559998999999998, 16.98, 16.92, 17.41, 18.07, 17.879998999999998, 18.299999, 18.469998999999998, 19.120001000000002, 18.68, 18.4, 18.530001000000002, 17.780001000000002, 17.780001000000002, 17.83, 17.719998999999998, 17.360001, 17.0, 17.049999, 17.129998999999998, 16.99, 16.9, 16.700001, 16.51, 15.95, 16.83, 16.639999, 16.5, 16.5, 16.66, 16.469998999999998, 16.440001000000002, 16.0, 15.49, 15.9, 15.79, 15.31, 15.83, 15.84, 15.69, 15.55, 15.2, 15.5, 15.38, 15.36, 15.12, 15.06, 15.14, 15.35, 15.49, 15.69, 15.65, 15.72, 15.67, 15.84, 15.51, 15.39, 15.19, 14.92, 14.86, 14.54, 14.22, 14.15, 14.24, 14.46, 14.42, 14.77, 14.93, 15.21, 15.6, 15.42, 15.39, 15.37, 15.38, 15.28, 14.28, 14.17, 14.04, 14.22, 14.1, 13.99, 13.96, 13.98, 14.08, 14.07, 14.2, 14.25, 14.38, 14.52, 14.46, 14.2, 13.99, 13.96, 13.9, 14.0, 14.05, 14.0, 13.95, 13.87, 13.64, 13.37, 13.4, 13.47, 13.42, 13.14, 13.41, 13.55, 13.75, 13.62, 13.82, 13.92, 13.77, 13.88, 13.76, 14.35, 14.23, 14.33, 14.06, 14.26, 14.25, 14.24, 14.51, 14.53, 14.45, 14.39, 14.35, 14.35, 14.32, 14.77, 14.7, 14.61, 14.56, 14.58, 14.47, 15.48, 16.76, 16.73, 16.280001000000002, 15.8, 16.25, 16.0, 16.41, 16.440001000000002, 16.48, 16.43, 16.450001, 16.52, 16.52, 16.4, 16.23, 16.35, 16.4, 16.5, 17.6, 17.01, 16.860001, 16.75, 16.889999, 16.49, 16.33, 17.17, 16.969998999999998, 16.65, 16.43, 16.48, 16.4, 16.450001, 16.34, 16.4, 16.41, 16.370001000000002, 16.6, 17.07, 17.219998999999998, 17.190001000000002, 17.049999, 16.99, 16.84, 16.73, 16.700001, 16.66, 16.42, 16.68, 16.780001000000002, 16.73, 16.629998999999998, 16.540001, 16.77, 16.77, 16.76, 16.940001000000002, 16.83, 16.91, 17.34, 17.17, 16.799999, 16.73, 16.809998999999998, 16.92, 16.83, 16.68, 16.549999, 16.33, 16.309998999999998, 16.24, 16.190001000000002, 16.049999, 16.360001, 16.209999, 16.200001, 16.459999, 16.66, 16.91, 16.91, 17.0, 16.85, 16.700001, 16.719998999999998, 16.870001000000002, 16.93, 17.389999, 17.82, 17.82, 17.84, 17.389999, 17.1, 16.73, 16.77, 16.6, 16.49, 16.85, 17.049999, 17.200001, 17.15, 17.02, 17.700001, 17.389999, 17.540001, 17.440001000000002, 16.68, 16.48, 16.42, 16.190001000000002, 16.5, 16.48, 16.34, 16.91, 17.049999, 17.059998999999998, 16.780001000000002, 16.92, 16.879998999999998, 16.98, 17.049999, 17.290001, 17.200001, 17.1, 17.110001, 16.959999, 16.639999, 16.690001000000002, 16.82, 16.780001000000002, 16.440001000000002, 16.360001, 17.23, 16.940001000000002, 17.309998999999998, 17.370001000000002, 17.43, 17.530001000000002, 17.77, 18.35, 18.639999, 18.379998999999998, 18.559998999999998, 18.799999, 18.84, 18.700001, 18.610001, 17.809998999999998, 16.84, 16.690001000000002, 16.07, 16.16, 16.49, 16.440001000000002, 16.17, 16.41, 16.99, 16.219998999999998, 16.190001000000002, 16.59, 16.43, 16.110001, 16.0, 15.85, 15.65, 15.38, 15.33, 15.73, 15.34, 15.56, 15.05, 15.09, 14.98, 15.42, 15.38, 15.53, 15.09, 15.16, 14.98, 15.18, 15.05, 15.1, 15.5, 15.67, 15.81, 15.95, 15.69, 15.44, 15.18, 15.1, 14.99, 14.94, 14.69, 14.69, 14.15, 13.63, 14.05, 13.88, 13.99, 13.9, 13.71, 14.07, 13.34, 13.18, 13.07, 12.86, 12.12, 11.8, 12.09, 12.14, 12.92, 13.62, 13.69, 13.57, 13.62, 13.09, 13.08, 13.23, 13.35, 13.3, 13.21, 12.89, 13.68, 13.98, 13.94, 13.78, 13.13, 12.95, 14.0, 14.49, 14.57, 14.28, 14.34, 14.94, 15.4, 15.34, 14.79, 14.66, 14.6, 14.25, 14.83, 14.8, 15.0, 14.62, 14.39, 13.44, 14.04, 14.48, 16.15, 15.8, 15.75, 16.040001, 15.95, 15.95, 16.370001000000002, 16.15, 16.040001, 15.74, 16.790001, 16.49, 16.389999, 16.75, 16.700001, 16.440001000000002, 16.700001, 16.700001, 16.07, 15.08, 15.3, 15.5, 15.54, 15.7, 16.18, 16.5, 16.219998999999998, 16.309998999999998, 16.309998999999998, 16.049999, 16.1, 15.77, 15.69, 15.19, 15.08, 15.24, 15.25, 15.47, 15.94, 16.040001, 16.459999, 16.41, 16.139999, 16.049999, 15.86, 15.76, 15.96, 15.72, 15.74, 15.28, 15.29, 15.26, 15.0, 15.19, 16.24, 16.4, 16.26, 16.17, 16.049999, 16.23, 16.209999, 16.389999, 16.16, 15.69, 15.66, 15.61, 15.71, 15.62, 15.73, 15.67, 15.66, 16.0, 16.15, 16.110001, 15.93, 15.81, 15.71, 15.69, 15.8, 15.65, 15.62, 15.8, 15.82, 15.98, 15.95, 15.89, 15.97, 16.1, 16.309998999999998, 16.24, 16.1, 15.3, 15.38, 15.44, 15.07, 14.75, 14.81, 14.97, 14.91, 14.99, 14.93, 14.96, 14.92, 14.95, 14.69, 14.71, 14.77, 14.7, 14.76, 14.62, 14.64, 14.98, 15.18, 15.22, 15.61, 15.61, 15.56, 15.59, 15.56, 15.55, 15.48, 15.34, 15.42, 15.51, 15.43, 15.34, 15.26, 15.25, 15.18, 15.08, 15.1, 15.18, 15.04, 15.18, 15.57, 15.57, 15.7, 15.47, 15.52, 15.51, 15.55, 15.62, 15.57, 15.73, 15.77, 15.65, 15.29, 15.49, 15.44, 15.45, 15.54, 15.44, 15.77, 15.55, 15.57, 15.37, 15.87, 16.0, 15.61, 15.43, 15.51, 15.48, 15.55, 15.34, 15.37, 15.12, 15.03, 15.14, 15.41, 15.5, 15.68, 15.73, 15.52, 15.49, 15.46, 15.44, 15.54, 15.69, 15.75, 15.8, 15.7, 15.55, 15.47, 15.63, 15.48, 15.83, 15.94, 15.99, 15.99, 15.91, 15.84, 15.98, 15.94, 15.81, 15.84, 15.8, 15.89, 15.75, 15.86, 15.94, 15.81, 15.76, 15.64, 15.88, 16.17, 16.15, 16.059998999999998, 16.07, 16.0, 16.030001000000002, 16.07, 16.370001000000002, 16.32, 16.16, 15.35, 15.21, 15.05, 14.86, 15.01, 15.07, 15.05, 15.01, 14.99, 14.97, 14.94, 14.93, 14.87, 14.94, 14.84, 14.82, 14.98, 15.14, 15.15, 15.29, 15.28, 15.25, 15.55, 15.69, 15.84, 15.84, 16.17, 16.129998999999998, 15.86, 15.82, 16.040001, 16.09, 15.81, 16.200001, 16.09, 16.09, 16.040001, 16.24, 16.35, 16.379998999999998, 16.16, 16.049999, 15.99, 16.02, 16.02, 15.87, 15.98, 16.120001000000002, 16.24, 16.030001000000002, 15.95, 16.790001, 16.799999, 16.77, 16.82, 16.889999, 17.049999, 17.139999, 17.43, 17.530001000000002, 17.559998999999998, 17.5, 17.52, 17.559998999999998, 17.85, 18.08, 18.16, 18.02, 18.370001000000002, 18.5, 18.5, 18.59, 19.0, 19.16, 18.950001, 19.030001000000002, 18.950001, 18.84, 18.959999, 19.030001000000002, 19.280001000000002, 19.299999, 19.469998999999998, 19.629998999999998, 19.6, 19.540001, 19.719998999999998, 19.74, 19.76, 19.690001000000002, 19.709999, 19.49, 19.66, 19.75, 19.67, 19.57, 19.969998999999998, 20.32, 20.1, 19.950001, 19.58, 19.68, 19.75, 19.379998999999998, 19.379998999999998, 19.540001, 19.540001, 20.139999, 20.209999, 20.17, 19.950001, 20.190001000000002, 20.52, 20.48, 20.5, 20.879998999999998, 20.120001000000002, 19.99, 19.83, 19.809998999999998, 19.780001000000002, 19.9, 20.43, 20.610001, 20.98, 21.4, 21.43, 21.26, 21.25, 21.41, 21.450001, 21.0, 21.309998999999998, 21.32, 20.85, 21.309998999999998, 21.57, 22.280001000000002, 22.74, 23.08, 23.09, 23.0, 22.959999, 23.0, 22.58, 22.48, 22.75, 22.389999, 22.17, 22.33, 22.33, 22.950001, 23.26, 23.879998999999998, 23.620001000000002, 23.83, 23.77, 23.620001000000002, 23.9, 23.879998999999998, 23.719998999999998, 23.41, 23.48, 24.0, 24.32, 24.57, 24.799999, 24.99, 24.26, 24.1, 23.700001, 23.629998999999998, 23.959999, 24.450001, 24.969998999999998, 25.290001, 25.370001000000002, 24.91, 24.790001, 24.719998999999998, 24.969998999999998, 25.25, 25.34, 26.790001, 26.66, 26.49, 26.860001, 26.83, 26.870001000000002, 27.68, 27.43, 26.98, 27.049999, 27.129998999999998, 27.190001000000002, 26.27, 26.48, 26.77, 26.040001, 26.5, 26.6, 26.620001000000002, 26.57, 26.25, 26.209999, 27.09, 27.120001000000002, 26.879998999999998, 26.530001000000002, 26.459999, 26.549999, 26.85, 26.889999, 26.780001000000002, 26.049999, 25.43, 25.09, 25.01, 25.68, 25.98, 25.540001, 25.540001, 25.5, 25.639999, 26.26, 25.99, 26.700001, 27.07, 27.190001000000002, 27.440001000000002, 27.469998999999998, 27.450001, 29.73, 29.83, 29.719998999999998, 28.42, 28.040001, 27.92, 28.459999, 28.34, 28.33, 28.23, 28.209999, 28.450001, 28.09, 27.799999, 27.75, 27.51, 27.620001000000002, 27.700001, 28.370001000000002, 28.6, 28.209999, 27.83, 27.6, 27.440001000000002, 27.309998999999998, 27.49, 28.01, 28.32, 28.040001, 27.459999, 27.24, 27.450001, 27.440001000000002, 27.870001000000002, 28.120001000000002, 28.35, 28.5, 29.32, 29.629998999999998, 29.41, 30.27, 29.469998999999998, 30.040001, 30.0, 30.459999, 31.049999, 31.1, 31.030001000000002, 31.66, 32.029999, 33.0, 33.849998, 33.75, 34.439999, 34.700001, 34.360001000000004, 35.060001, 34.689999, 34.5, 33.330002, 33.91, 34.369999, 34.099998, 34.32, 34.110001000000004, 33.009997999999996, 33.75, 34.349998, 34.599998, 33.84, 33.310001, 32.950001, 32.700001, 34.0, 33.48, 33.119999, 33.349998, 33.66, 33.080002, 33.299999, 33.049999, 33.119999, 33.990002000000004, 34.52, 35.119999, 35.889998999999996, 35.939999, 36.189999, 35.169998, 36.220001, 36.66, 36.630001, 36.849998, 36.75, 37.119999, 37.349998, 37.150002, 37.07, 38.150002, 39.310001, 39.279999, 39.200001, 40.25, 40.16, 40.0, 40.200001, 40.27, 40.0, 40.040001000000004, 40.380001, 40.599998, 40.799999, 40.950001, 41.049999, 40.75, 40.580002, 40.5, 40.490002000000004, 40.439999, 40.32, 41.200001, 41.720001, 41.349998, 41.349998, 41.220001, 41.139998999999996, 41.310001, 40.75, 40.439999, 40.049999, 40.400002, 39.77, 38.98, 37.939999, 38.32, 36.310001, 35.810001, 36.330002, 36.009997999999996, 35.860001000000004, 35.939999, 36.75, 37.27, 38.130001, 38.860001000000004, 38.91, 38.689999, 38.450001, 38.59, 38.330002, 38.040001000000004, 37.959998999999996, 37.709998999999996, 37.580002, 38.099998, 38.48, 39.380001, 38.66, 39.790001000000004, 40.150002, 39.98, 39.91, 38.779999, 38.299999, 37.610001000000004, 38.419998, 38.189999, 39.360001000000004, 39.509997999999996, 39.939999, 38.470001, 38.27, 38.040001000000004, 37.07, 36.740002000000004, 36.150002, 36.73, 36.580002, 36.860001000000004, 36.860001000000004, 36.790001000000004, 36.049999, 34.369999, 34.43, 35.0, 34.98, 33.48, 34.040001000000004, 34.279999, 37.299999, 36.599998, 36.650002, 36.849998, 36.189999, 35.82, 35.099998, 35.0, 35.889998999999996, 36.439999, 36.689999, 37.119999, 37.049999, 37.169998, 35.990002000000004, 34.57, 34.099998, 34.599998, 34.689999, 34.650002, 34.189999, 33.66, 33.990002000000004, 34.470001, 34.389998999999996, 34.860001000000004, 35.080002, 35.130001, 35.169998, 35.099998, 34.93, 34.950001, 34.970001, 34.830002, 34.990002000000004, 36.080002, 36.32, 36.52, 36.84, 36.790001000000004, 37.060001, 35.490002000000004, 34.939999, 35.009997999999996, 35.200001, 34.810001, 34.220001, 33.990002000000004, 33.650002, 33.75, 34.549999, 35.259997999999996, 35.700001, 35.91, 36.150002, 36.23, 35.66, 35.07, 34.970001, 35.560001, 35.950001, 35.939999, 34.450001, 33.900002, 33.349998, 33.639998999999996, 33.84, 34.919998, 36.549999, 36.330002, 36.23, 36.16, 36.990002000000004, 36.490002000000004, 36.080002, 36.66, 36.419998, 35.939999, 36.0, 35.959998999999996, 36.150002, 35.990002000000004, 36.450001, 36.419998, 36.57, 37.77, 37.939999, 37.75, 37.75, 38.200001, 38.220001, 37.919998, 38.720001, 38.57, 38.669998, 39.299999, 39.599998, 39.34, 39.799999, 41.82, 42.060001, 41.23, 41.560001, 43.200001, 44.009997999999996, 42.959998999999996, 42.959998999999996, 43.32, 43.189999, 40.040001000000004, 39.27, 40.099998, 39.799999, 40.799999, 41.09, 41.23, 41.240002000000004, 40.639998999999996, 41.689999, 41.73, 41.290001000000004, 41.290001000000004, 41.25, 41.07, 40.07, 39.0, 38.080002, 38.5, 38.98, 39.400002, 40.48, 42.880001, 42.830002, 43.650002, 44.82, 46.150002, 45.98, 45.84, 46.52, 46.720001, 47.130001, 48.279999, 47.98, 48.669998, 49.630001, 49.18, 50.630001, 51.169998, 51.950001, 52.419998, 52.619999, 51.369999, 52.23, 52.25, 51.830002, 52.189999, 52.259997999999996, 52.0, 51.43, 51.119999, 50.970001, 50.669998, 51.25, 50.900002, 50.529999, 50.689999, 50.580002, 51.169998, 50.919998, 50.080002, 50.25, 51.150002, 51.470001, 51.599998, 51.459998999999996, 50.919998, 51.060001, 51.009997999999996, 51.27, 51.68, 50.779999, 49.880001, 49.880001, 49.639998999999996, 50.23, 50.41, 49.93, 49.48, 48.09, 47.75, 46.59, 47.889998999999996, 48.380001, 49.080002, 49.23, 49.790001000000004, 49.279999, 50.32, 43.799999, 44.849998, 44.759997999999996, 45.25, 44.98, 44.259997999999996, 43.66, 43.150002, 43.18, 43.259997999999996, 44.16, 44.59, 44.540001000000004, 43.82, 44.419998, 44.360001000000004, 43.990002000000004, 43.52, 44.720001, 44.759997999999996, 44.57, 44.43, 43.950001, 44.380001, 44.310001, 44.240002000000004, 43.93, 42.919998, 42.990002000000004, 43.360001000000004, 42.98, 43.880001, 44.16, 44.709998999999996, 45.450001, 45.580002, 45.540001000000004, 44.779999, 44.93, 44.669998, 45.669998, 45.419998, 45.200001, 44.599998, 44.360001000000004, 44.029999, 44.220001, 45.189999, 46.169998, 45.790001000000004, 45.59, 45.639998999999996, 45.830002, 46.130001, 45.439999, 44.91, 45.18, 44.849998, 44.060001, 44.709998999999996, 45.099998, 44.57, 44.049999, 43.310001, 42.68, 42.549999, 42.0, 41.73, 44.98, 44.549999, 44.139998999999996, 44.310001, 44.669998, 44.990002000000004, 45.07, 44.57, 44.66, 43.040001000000004, 43.869999, 44.0, 43.5, 43.439999, 43.419998, 43.59, 43.630001, 43.619999, 43.779999, 43.439999, 43.259997999999996, 42.889998999999996, 41.950001, 42.310001, 42.209998999999996, 41.110001000000004, 40.669998, 41.400002, 41.52, 41.27, 40.93, 40.889998999999996, 40.799999, 41.23, 41.389998999999996, 40.869999, 39.779999, 39.650002, 39.779999, 39.639998999999996, 39.119999, 38.380001, 37.490002000000004, 38.68, 38.419998, 38.799999, 39.029999, 38.799999, 38.959998999999996, 39.790001000000004, 39.98, 39.849998, 39.630001, 39.779999, 39.580002, 38.310001, 37.919998, 37.919998, 37.689999, 37.57, 36.98, 37.209998999999996, 37.709998999999996, 37.52, 36.759997999999996]\n"
          ],
          "name": "stdout"
        }
      ]
    },
    {
      "cell_type": "code",
      "metadata": {
        "colab": {
          "base_uri": "https://localhost:8080/"
        },
        "id": "XP29DX_BTBQs",
        "outputId": "d40d963f-4686-4a66-c3e5-d45606049a70"
      },
      "source": [
        "print(X_test)\n",
        "print(y_test)"
      ],
      "execution_count": null,
      "outputs": [
        {
          "output_type": "stream",
          "text": [
            "[array([37.689999, 36.77    ]), array([36.77, 34.77]), array([34.77    , 36.610001]), array([36.610001, 36.349998]), array([36.349998, 36.240002]), array([36.240002, 36.189999]), array([36.189999, 35.669998]), array([35.669998, 34.950001]), array([34.950001, 34.02    ]), array([34.02    , 32.279999]), array([32.279999, 33.029999]), array([33.029999, 32.619999]), array([32.619999, 33.77    ]), array([33.77, 33.57]), array([33.57    , 32.990002]), array([32.990002, 32.099998]), array([32.099998, 32.029999]), array([32.029999, 32.740002]), array([32.740002, 32.290001]), array([32.290001, 32.830002]), array([32.830002, 31.799999]), array([31.799999, 31.59    ]), array([31.59, 31.43]), array([31.43, 30.92]), array([30.92, 31.23]), array([31.23, 31.77]), array([31.77, 31.33]), array([31.33    , 30.799999]), array([30.799999, 31.74    ]), array([31.74, 30.92]), array([30.92, 30.57]), array([30.57, 29.57]), array([29.57    , 29.709999]), array([29.709999, 29.219999]), array([29.219999, 29.23    ]), array([29.23    , 29.110001]), array([29.110001, 29.      ]), array([29.      , 30.709999]), array([30.709999, 31.200001]), array([31.200001, 31.190001]), array([31.190001, 31.99    ]), array([31.99, 32.5 ]), array([32.5     , 32.689999]), array([32.689999, 33.02    ]), array([33.02    , 32.830002]), array([32.830002, 32.490002]), array([32.490002, 33.490002]), array([33.490002, 33.860001]), array([33.860001, 33.630001]), array([33.630001, 33.59    ]), array([33.59, 32.43]), array([32.43, 31.9 ]), array([31.9     , 33.360001]), array([33.360001, 33.490002]), array([33.490002, 35.470001]), array([35.470001, 35.27    ]), array([35.27    , 35.150002]), array([35.150002, 35.700001]), array([35.700001, 35.48    ]), array([35.48, 35.34]), array([35.34    , 35.240002]), array([35.240002, 35.299999]), array([35.299999, 35.200001]), array([35.200001, 34.080002]), array([34.080002, 34.130001]), array([34.130001, 34.23    ]), array([34.23    , 33.849998]), array([33.849998, 33.040001]), array([33.040001, 32.990002]), array([32.990002, 33.119999]), array([33.119999, 33.02    ]), array([33.02, 33.5 ]), array([33.5     , 33.299999]), array([33.299999, 33.869999]), array([33.869999, 33.189999]), array([33.189999, 33.52    ]), array([33.52, 33.09]), array([33.09    , 33.830002]), array([33.830002, 33.889999]), array([33.889999, 36.389999]), array([36.389999, 35.720001]), array([35.720001, 35.200001]), array([35.200001, 34.919998]), array([34.919998, 34.98    ]), array([34.98, 35.84]), array([35.84, 34.73]), array([34.73    , 34.150002]), array([34.150002, 33.27    ]), array([33.27    , 33.389999]), array([33.389999, 33.880001]), array([33.880001, 34.080002]), array([34.080002, 33.630001]), array([33.630001, 33.299999]), array([33.299999, 34.209999]), array([34.209999, 34.580002]), array([34.580002, 34.740002]), array([34.740002, 33.91    ]), array([33.91    , 34.169998]), array([34.169998, 34.040001]), array([34.040001, 33.689999]), array([33.689999, 32.349998]), array([32.349998, 32.330002]), array([32.330002, 32.459999]), array([32.459999, 31.190001]), array([31.190001, 31.540001]), array([31.540001, 30.75    ]), array([30.75    , 30.969999]), array([30.969999, 31.17    ]), array([31.17, 30.57]), array([30.57, 29.77]), array([29.77, 30.  ]), array([30.      , 29.110001]), array([29.110001, 29.799999]), array([29.799999, 30.52    ]), array([30.52    , 30.389999]), array([30.389999, 30.190001]), array([30.190001, 30.530001]), array([30.530001, 30.629999]), array([30.629999, 29.51    ]), array([29.51    , 29.790001]), array([29.790001, 30.23    ]), array([30.23    , 28.610001]), array([28.610001, 29.23    ]), array([29.23    , 29.139999]), array([29.139999, 27.969999]), array([27.969999, 27.690001]), array([27.690001, 27.809999]), array([27.809999, 26.969999]), array([26.969999, 27.32    ]), array([27.32    , 29.440001]), array([29.440001, 29.66    ]), array([29.66    , 30.139999]), array([30.139999, 30.23    ]), array([30.23    , 31.209999]), array([31.209999, 31.379999]), array([31.379999, 31.120001]), array([31.120001, 31.360001]), array([31.360001, 31.9     ]), array([31.9     , 32.459999]), array([32.459999, 32.849998]), array([32.849998, 33.240002]), array([33.240002, 33.209999]), array([33.209999, 33.93    ]), array([33.93    , 34.380001]), array([34.380001, 33.82    ]), array([33.82, 33.52]), array([33.52    , 33.599998]), array([33.599998, 33.860001]), array([33.860001, 34.09    ]), array([34.09    , 33.459999]), array([33.459999, 34.080002]), array([34.080002, 34.549999]), array([34.549999, 35.209999]), array([35.209999, 36.099998]), array([36.099998, 35.610001]), array([35.610001, 35.700001]), array([35.700001, 34.869999]), array([34.869999, 35.450001]), array([35.450001, 36.43    ]), array([36.43    , 37.279999]), array([37.279999, 37.02    ]), array([37.02    , 36.880001]), array([36.880001, 37.5     ]), array([37.5     , 36.919998]), array([36.919998, 37.      ]), array([37.  , 37.25]), array([37.25    , 36.919998]), array([36.919998, 36.849998]), array([36.849998, 36.830002]), array([36.830002, 37.349998]), array([37.349998, 37.5     ]), array([37.5     , 37.150002]), array([37.150002, 37.      ]), array([37.  , 36.73]), array([36.73    , 38.189999]), array([38.189999, 38.119999]), array([38.119999, 38.09    ]), array([38.09    , 37.540001]), array([37.540001, 37.540001]), array([37.540001, 37.59    ]), array([37.59    , 37.439999]), array([37.439999, 36.98    ]), array([36.98    , 36.740002]), array([36.740002, 36.41    ]), array([36.41, 36.09]), array([36.09    , 37.450001]), array([37.450001, 37.310001]), array([37.310001, 37.349998]), array([37.349998, 37.580002]), array([37.580002, 37.630001]), array([37.630001, 37.509998]), array([37.509998, 37.07    ]), array([37.07    , 37.790001]), array([37.790001, 37.700001]), array([37.700001, 37.5     ]), array([37.5 , 37.23]), array([37.23    , 36.720001]), array([36.720001, 36.950001]), array([36.950001, 37.630001]), array([37.630001, 36.959999]), array([36.959999, 36.849998]), array([36.849998, 37.880001]), array([37.880001, 38.080002]), array([38.080002, 37.740002]), array([37.740002, 37.220001]), array([37.220001, 37.110001]), array([37.110001, 37.200001]), array([37.200001, 36.990002]), array([36.990002, 37.299999]), array([37.299999, 37.73    ]), array([37.73    , 37.139999]), array([37.139999, 36.91    ]), array([36.91    , 37.439999]), array([37.439999, 37.599998]), array([37.599998, 37.450001]), array([37.450001, 37.439999]), array([37.439999, 37.68    ]), array([37.68    , 37.549999]), array([37.549999, 37.52    ]), array([37.52    , 37.779999]), array([37.779999, 36.950001]), array([36.950001, 36.009998]), array([36.009998, 36.139999]), array([36.139999, 37.080002]), array([37.080002, 37.580002]), array([37.580002, 38.080002]), array([38.080002, 37.77    ]), array([37.77    , 37.560001]), array([37.560001, 37.759998]), array([37.759998, 37.84    ]), array([37.84    , 38.150002]), array([38.150002, 38.330002]), array([38.330002, 38.009998]), array([38.009998, 38.349998]), array([38.349998, 38.189999]), array([38.189999, 37.970001]), array([37.970001, 38.490002]), array([38.490002, 38.93    ]), array([38.93, 39.25]), array([39.25    , 39.419998]), array([39.419998, 39.209999]), array([39.209999, 38.830002]), array([38.830002, 38.77    ]), array([38.77    , 38.639999]), array([38.639999, 38.52    ]), array([38.52    , 38.889999]), array([38.889999, 38.669998]), array([38.669998, 38.549999]), array([38.549999, 39.029999]), array([39.029999, 39.150002]), array([39.150002, 39.27    ]), array([39.27    , 39.310001]), array([39.310001, 39.98    ]), array([39.98, 41.73]), array([41.73, 42.98]), array([42.98    , 43.290001]), array([43.290001, 42.790001]), array([42.790001, 42.75    ]), array([42.75    , 42.970001]), array([42.970001, 43.119999]), array([43.119999, 42.869999]), array([42.869999, 42.91    ]), array([42.91, 42.77]), array([42.77    , 42.240002]), array([42.240002, 42.610001]), array([42.610001, 42.459999]), array([42.459999, 42.740002]), array([42.740002, 42.799999]), array([42.799999, 43.099998]), array([43.099998, 43.599998]), array([43.599998, 44.849998]), array([44.849998, 44.919998]), array([44.919998, 44.720001]), array([44.720001, 44.150002]), array([44.150002, 43.650002]), array([43.650002, 43.52    ]), array([43.52    , 43.619999]), array([43.619999, 44.049999]), array([44.049999, 44.02    ]), array([44.02    , 43.950001]), array([43.950001, 43.389999]), array([43.389999, 44.220001]), array([44.220001, 44.869999]), array([44.869999, 43.759998]), array([43.759998, 42.740002]), array([42.740002, 43.41    ]), array([43.41    , 43.720001]), array([43.720001, 43.299999]), array([43.299999, 43.25    ]), array([43.25, 43.18]), array([43.18, 43.5 ]), array([43.5     , 43.869999]), array([43.869999, 43.82    ]), array([43.82, 43.68]), array([43.68, 44.07]), array([44.07    , 44.080002]), array([44.080002, 42.779999]), array([42.779999, 42.080002]), array([42.080002, 42.25    ]), array([42.25    , 41.939999]), array([41.939999, 42.610001]), array([42.610001, 42.939999]), array([42.939999, 42.689999]), array([42.689999, 42.200001]), array([42.200001, 42.68    ]), array([42.68, 42.75]), array([42.75    , 42.439999]), array([42.439999, 42.490002]), array([42.490002, 42.220001]), array([42.220001, 42.16    ]), array([42.16, 41.34]), array([41.34, 42.16]), array([42.16, 40.75]), array([40.75    , 40.669998]), array([40.669998, 41.23    ]), array([41.23    , 41.279999]), array([41.279999, 41.389999]), array([41.389999, 41.650002]), array([41.650002, 40.52    ]), array([40.52    , 40.389999]), array([40.389999, 40.450001]), array([40.450001, 41.049999]), array([41.049999, 41.650002]), array([41.650002, 41.650002]), array([41.650002, 41.48    ]), array([41.48    , 41.400002]), array([41.400002, 40.98    ]), array([40.98    , 41.080002]), array([41.080002, 41.700001]), array([41.700001, 41.830002]), array([41.830002, 41.669998]), array([41.669998, 41.040001]), array([41.040001, 40.32    ]), array([40.32    , 40.389999]), array([40.389999, 40.419998]), array([40.419998, 40.57    ]), array([40.57    , 41.599998]), array([41.599998, 41.799999]), array([41.799999, 41.529999]), array([41.529999, 41.790001]), array([41.790001, 41.529999]), array([41.529999, 40.      ]), array([40.      , 39.220001]), array([39.220001, 38.790001]), array([38.790001, 39.18    ]), array([39.18, 39.32]), array([39.32    , 38.790001]), array([38.790001, 38.810001]), array([38.810001, 39.07    ]), array([39.07    , 39.220001]), array([39.220001, 38.93    ])]\n",
            "[34.77, 36.610001000000004, 36.349998, 36.240002000000004, 36.189999, 35.669998, 34.950001, 34.02, 32.279999, 33.029999, 32.619999, 33.77, 33.57, 32.990002000000004, 32.099998, 32.029999, 32.740002000000004, 32.290001000000004, 32.830002, 31.799999, 31.59, 31.43, 30.92, 31.23, 31.77, 31.33, 30.799999, 31.74, 30.92, 30.57, 29.57, 29.709999, 29.219998999999998, 29.23, 29.110001, 29.0, 30.709999, 31.200001, 31.190001000000002, 31.99, 32.5, 32.689999, 33.02, 32.830002, 32.490002000000004, 33.490002000000004, 33.860001000000004, 33.630001, 33.59, 32.43, 31.9, 33.360001000000004, 33.490002000000004, 35.470001, 35.27, 35.150002, 35.700001, 35.48, 35.34, 35.240002000000004, 35.299999, 35.200001, 34.080002, 34.130001, 34.23, 33.849998, 33.040001000000004, 32.990002000000004, 33.119999, 33.02, 33.5, 33.299999, 33.869999, 33.189999, 33.52, 33.09, 33.830002, 33.889998999999996, 36.389998999999996, 35.720001, 35.200001, 34.919998, 34.98, 35.84, 34.73, 34.150002, 33.27, 33.389998999999996, 33.880001, 34.080002, 33.630001, 33.299999, 34.209998999999996, 34.580002, 34.740002000000004, 33.91, 34.169998, 34.040001000000004, 33.689999, 32.349998, 32.330002, 32.459998999999996, 31.190001000000002, 31.540001, 30.75, 30.969998999999998, 31.17, 30.57, 29.77, 30.0, 29.110001, 29.799999, 30.52, 30.389999, 30.190001000000002, 30.530001000000002, 30.629998999999998, 29.51, 29.790001, 30.23, 28.610001, 29.23, 29.139999, 27.969998999999998, 27.690001000000002, 27.809998999999998, 26.969998999999998, 27.32, 29.440001000000002, 29.66, 30.139999, 30.23, 31.209999, 31.379998999999998, 31.120001000000002, 31.360001, 31.9, 32.459998999999996, 32.849998, 33.240002000000004, 33.209998999999996, 33.93, 34.380001, 33.82, 33.52, 33.599998, 33.860001000000004, 34.09, 33.459998999999996, 34.080002, 34.549999, 35.209998999999996, 36.099998, 35.610001000000004, 35.700001, 34.869999, 35.450001, 36.43, 37.279999, 37.02, 36.880001, 37.5, 36.919998, 37.0, 37.25, 36.919998, 36.849998, 36.830002, 37.349998, 37.5, 37.150002, 37.0, 36.73, 38.189999, 38.119999, 38.09, 37.540001000000004, 37.540001000000004, 37.59, 37.439999, 36.98, 36.740002000000004, 36.41, 36.09, 37.450001, 37.310001, 37.349998, 37.580002, 37.630001, 37.509997999999996, 37.07, 37.790001000000004, 37.700001, 37.5, 37.23, 36.720001, 36.950001, 37.630001, 36.959998999999996, 36.849998, 37.880001, 38.080002, 37.740002000000004, 37.220001, 37.110001000000004, 37.200001, 36.990002000000004, 37.299999, 37.73, 37.139998999999996, 36.91, 37.439999, 37.599998, 37.450001, 37.439999, 37.68, 37.549999, 37.52, 37.779999, 36.950001, 36.009997999999996, 36.139998999999996, 37.080002, 37.580002, 38.080002, 37.77, 37.560001, 37.759997999999996, 37.84, 38.150002, 38.330002, 38.009997999999996, 38.349998, 38.189999, 37.970001, 38.490002000000004, 38.93, 39.25, 39.419998, 39.209998999999996, 38.830002, 38.77, 38.639998999999996, 38.52, 38.889998999999996, 38.669998, 38.549999, 39.029999, 39.150002, 39.27, 39.310001, 39.98, 41.73, 42.98, 43.290001000000004, 42.790001000000004, 42.75, 42.970001, 43.119999, 42.869999, 42.91, 42.77, 42.240002000000004, 42.610001000000004, 42.459998999999996, 42.740002000000004, 42.799999, 43.099998, 43.599998, 44.849998, 44.919998, 44.720001, 44.150002, 43.650002, 43.52, 43.619999, 44.049999, 44.02, 43.950001, 43.389998999999996, 44.220001, 44.869999, 43.759997999999996, 42.740002000000004, 43.41, 43.720001, 43.299999, 43.25, 43.18, 43.5, 43.869999, 43.82, 43.68, 44.07, 44.080002, 42.779999, 42.080002, 42.25, 41.939999, 42.610001000000004, 42.939999, 42.689999, 42.200001, 42.68, 42.75, 42.439999, 42.490002000000004, 42.220001, 42.16, 41.34, 42.16, 40.75, 40.669998, 41.23, 41.279999, 41.389998999999996, 41.650002, 40.52, 40.389998999999996, 40.450001, 41.049999, 41.650002, 41.650002, 41.48, 41.400002, 40.98, 41.080002, 41.700001, 41.830002, 41.669998, 41.040001000000004, 40.32, 40.389998999999996, 40.419998, 40.57, 41.599998, 41.799999, 41.529999, 41.790001000000004, 41.529999, 40.0, 39.220001, 38.790001000000004, 39.18, 39.32, 38.790001000000004, 38.810001, 39.07, 39.220001, 38.93, 39.0]\n"
          ],
          "name": "stdout"
        }
      ]
    },
    {
      "cell_type": "code",
      "metadata": {
        "colab": {
          "base_uri": "https://localhost:8080/"
        },
        "id": "KPHofdpXVZk8",
        "outputId": "fcdd2dac-e429-469e-c08b-2a7b39e0894c"
      },
      "source": [
        "np.array(X_test).shape, np.array(X_train).shape"
      ],
      "execution_count": null,
      "outputs": [
        {
          "output_type": "execute_result",
          "data": {
            "text/plain": [
              "((351, 2), (1407, 2))"
            ]
          },
          "metadata": {
            "tags": []
          },
          "execution_count": 115
        }
      ]
    },
    {
      "cell_type": "markdown",
      "metadata": {
        "id": "cvXLNilUU2Hr"
      },
      "source": [
        "### Reshaping X data"
      ]
    },
    {
      "cell_type": "code",
      "metadata": {
        "id": "FaMoYr-bUUmq"
      },
      "source": [
        "X_train=np.reshape(np.array(X_train), (np.array(X_train).shape[0], 1, np.array(X_train).shape[1]))\n",
        "X_test = np.reshape(np.array(X_test), (np.array(X_test).shape[0], 1, np.array(X_test).shape[1]))"
      ],
      "execution_count": null,
      "outputs": []
    },
    {
      "cell_type": "code",
      "metadata": {
        "id": "WKMuU1tpU9P4"
      },
      "source": [
        "X_train=np.array(X_train)\n",
        "X_test= np.array(X_test)\n",
        "y_train=np.array(y_train)\n",
        "y_test=np.array(y_test)"
      ],
      "execution_count": null,
      "outputs": []
    },
    {
      "cell_type": "code",
      "metadata": {
        "colab": {
          "base_uri": "https://localhost:8080/"
        },
        "id": "g5_HHgQSVuzx",
        "outputId": "f5843824-37a7-48b2-83b2-6d3b23b76a15"
      },
      "source": [
        "X_train.shape, X_test.shape"
      ],
      "execution_count": null,
      "outputs": [
        {
          "output_type": "execute_result",
          "data": {
            "text/plain": [
              "((1407, 1, 2), (351, 1, 2))"
            ]
          },
          "metadata": {
            "tags": []
          },
          "execution_count": 118
        }
      ]
    },
    {
      "cell_type": "code",
      "metadata": {
        "colab": {
          "base_uri": "https://localhost:8080/"
        },
        "id": "KnUjBvisWv3a",
        "outputId": "773e807d-2396-40be-86d6-e0da6274fe78"
      },
      "source": [
        "y_train.shape, y_test.shape"
      ],
      "execution_count": null,
      "outputs": [
        {
          "output_type": "execute_result",
          "data": {
            "text/plain": [
              "((1407,), (351,))"
            ]
          },
          "metadata": {
            "tags": []
          },
          "execution_count": 119
        }
      ]
    },
    {
      "cell_type": "markdown",
      "metadata": {
        "id": "whJszcZ7YSqx"
      },
      "source": [
        "#Exe. 5 Define a neural network such as:"
      ]
    },
    {
      "cell_type": "code",
      "metadata": {
        "colab": {
          "base_uri": "https://localhost:8080/"
        },
        "id": "DmTzE1KeWzVz",
        "outputId": "fcc4a266-5757-449e-970e-7cd880c085e4"
      },
      "source": [
        "from tensorflow.keras.layers import Dense, Activation, Dropout\n",
        "from tensorflow.keras.layers import LSTM\n",
        "from tensorflow.keras.models import Sequential\n",
        "import time\n",
        "\n",
        "\n",
        "model= Sequential()\n",
        "\n",
        "model.add(LSTM(input_dim=look_back, units=50, return_sequences=True))\n",
        "model.add(Dropout(0.2))\n",
        "\n",
        "model.add(LSTM(100, return_sequences=False))\n",
        "model.add(Dropout(0.2))\n",
        "\n",
        "model.add(Dense(units=look_back, activation ='linear'))\n",
        "model.summary()"
      ],
      "execution_count": null,
      "outputs": [
        {
          "output_type": "stream",
          "text": [
            "Model: \"sequential_11\"\n",
            "_________________________________________________________________\n",
            "Layer (type)                 Output Shape              Param #   \n",
            "=================================================================\n",
            "lstm_20 (LSTM)               (None, None, 50)          10600     \n",
            "_________________________________________________________________\n",
            "dropout_20 (Dropout)         (None, None, 50)          0         \n",
            "_________________________________________________________________\n",
            "lstm_21 (LSTM)               (None, 100)               60400     \n",
            "_________________________________________________________________\n",
            "dropout_21 (Dropout)         (None, 100)               0         \n",
            "_________________________________________________________________\n",
            "dense_10 (Dense)             (None, 2)                 202       \n",
            "=================================================================\n",
            "Total params: 71,202\n",
            "Trainable params: 71,202\n",
            "Non-trainable params: 0\n",
            "_________________________________________________________________\n"
          ],
          "name": "stdout"
        }
      ]
    },
    {
      "cell_type": "markdown",
      "metadata": {
        "id": "Yz9ofoX7Zwac"
      },
      "source": [
        "4*((n*m)+(n**2)+(n))\n"
      ]
    },
    {
      "cell_type": "code",
      "metadata": {
        "colab": {
          "base_uri": "https://localhost:8080/"
        },
        "id": "SXxaY_VBYZ7I",
        "outputId": "436dd0f2-ada4-4dd1-e038-10a41ad8d551"
      },
      "source": [
        "4*((2*50)+(50**2)+50)"
      ],
      "execution_count": null,
      "outputs": [
        {
          "output_type": "execute_result",
          "data": {
            "text/plain": [
              "10600"
            ]
          },
          "metadata": {
            "tags": []
          },
          "execution_count": 122
        }
      ]
    },
    {
      "cell_type": "code",
      "metadata": {
        "colab": {
          "base_uri": "https://localhost:8080/"
        },
        "id": "TnT5gF3vaNxo",
        "outputId": "c40a735c-614d-4e69-9792-2a6e1592331d"
      },
      "source": [
        "4*((100*50)+(100**2)+100)"
      ],
      "execution_count": null,
      "outputs": [
        {
          "output_type": "execute_result",
          "data": {
            "text/plain": [
              "60400"
            ]
          },
          "metadata": {
            "tags": []
          },
          "execution_count": 123
        }
      ]
    },
    {
      "cell_type": "markdown",
      "metadata": {
        "id": "eFMVFZoXbEy8"
      },
      "source": [
        "#Exe. 5 Compile the model using a mean square error and a rmsprop optimisation."
      ]
    },
    {
      "cell_type": "code",
      "metadata": {
        "id": "vgaA62J5bEdN"
      },
      "source": [
        "model.compile(loss='mse', optimizer='rmsprop')\n"
      ],
      "execution_count": null,
      "outputs": []
    },
    {
      "cell_type": "markdown",
      "metadata": {
        "id": "X6-5xmwScq0d"
      },
      "source": [
        "#Exe. 6 Now fit the model on tainX and trainY datasets while defining your batch size, epochs and validation split."
      ]
    },
    {
      "cell_type": "code",
      "metadata": {
        "colab": {
          "base_uri": "https://localhost:8080/"
        },
        "id": "oVu6C5BharJz",
        "outputId": "1d414a4f-09ca-4aa9-afa4-9aa3432af39c"
      },
      "source": [
        "model.fit( X_train , y_train , validation_split=0.2 ,epochs =100,batch_size=128)"
      ],
      "execution_count": null,
      "outputs": [
        {
          "output_type": "stream",
          "text": [
            "Epoch 1/100\n",
            "9/9 [==============================] - 34s 82ms/step - loss: 512.5698 - val_loss: 1822.3617\n",
            "Epoch 2/100\n",
            "9/9 [==============================] - 0s 8ms/step - loss: 463.1197 - val_loss: 1706.7123\n",
            "Epoch 3/100\n",
            "9/9 [==============================] - 0s 8ms/step - loss: 412.8219 - val_loss: 1549.9725\n",
            "Epoch 4/100\n",
            "9/9 [==============================] - 0s 9ms/step - loss: 339.6003 - val_loss: 1385.1588\n",
            "Epoch 5/100\n",
            "9/9 [==============================] - 0s 8ms/step - loss: 267.9282 - val_loss: 1245.1696\n",
            "Epoch 6/100\n",
            "9/9 [==============================] - 0s 9ms/step - loss: 230.4348 - val_loss: 1139.6996\n",
            "Epoch 7/100\n",
            "9/9 [==============================] - 0s 9ms/step - loss: 193.4209 - val_loss: 1058.5908\n",
            "Epoch 8/100\n",
            "9/9 [==============================] - 0s 8ms/step - loss: 167.6872 - val_loss: 992.2383\n",
            "Epoch 9/100\n",
            "9/9 [==============================] - 0s 9ms/step - loss: 136.8420 - val_loss: 935.2413\n",
            "Epoch 10/100\n",
            "9/9 [==============================] - 0s 8ms/step - loss: 128.0141 - val_loss: 884.9423\n",
            "Epoch 11/100\n",
            "9/9 [==============================] - 0s 8ms/step - loss: 121.7124 - val_loss: 840.7767\n",
            "Epoch 12/100\n",
            "9/9 [==============================] - 0s 8ms/step - loss: 112.3418 - val_loss: 799.8841\n",
            "Epoch 13/100\n",
            "9/9 [==============================] - 0s 8ms/step - loss: 94.1816 - val_loss: 761.1086\n",
            "Epoch 14/100\n",
            "9/9 [==============================] - 0s 9ms/step - loss: 85.8024 - val_loss: 725.7437\n",
            "Epoch 15/100\n",
            "9/9 [==============================] - 0s 8ms/step - loss: 85.4817 - val_loss: 693.0101\n",
            "Epoch 16/100\n",
            "9/9 [==============================] - 0s 9ms/step - loss: 74.7651 - val_loss: 662.0381\n",
            "Epoch 17/100\n",
            "9/9 [==============================] - 0s 9ms/step - loss: 81.9482 - val_loss: 634.5838\n",
            "Epoch 18/100\n",
            "9/9 [==============================] - 0s 8ms/step - loss: 67.0747 - val_loss: 606.3734\n",
            "Epoch 19/100\n",
            "9/9 [==============================] - 0s 8ms/step - loss: 70.9142 - val_loss: 584.9236\n",
            "Epoch 20/100\n",
            "9/9 [==============================] - 0s 8ms/step - loss: 63.1935 - val_loss: 559.6845\n",
            "Epoch 21/100\n",
            "9/9 [==============================] - 0s 8ms/step - loss: 61.8521 - val_loss: 534.2314\n",
            "Epoch 22/100\n",
            "9/9 [==============================] - 0s 8ms/step - loss: 56.9202 - val_loss: 501.8929\n",
            "Epoch 23/100\n",
            "9/9 [==============================] - 0s 8ms/step - loss: 50.8946 - val_loss: 471.0589\n",
            "Epoch 24/100\n",
            "9/9 [==============================] - 0s 8ms/step - loss: 46.1761 - val_loss: 445.7117\n",
            "Epoch 25/100\n",
            "9/9 [==============================] - 0s 8ms/step - loss: 42.1571 - val_loss: 417.2414\n",
            "Epoch 26/100\n",
            "9/9 [==============================] - 0s 8ms/step - loss: 37.0320 - val_loss: 393.8194\n",
            "Epoch 27/100\n",
            "9/9 [==============================] - 0s 8ms/step - loss: 31.8103 - val_loss: 368.0657\n",
            "Epoch 28/100\n",
            "9/9 [==============================] - 0s 9ms/step - loss: 31.1444 - val_loss: 344.0487\n",
            "Epoch 29/100\n",
            "9/9 [==============================] - 0s 9ms/step - loss: 28.1684 - val_loss: 320.2540\n",
            "Epoch 30/100\n",
            "9/9 [==============================] - 0s 9ms/step - loss: 24.7650 - val_loss: 299.8721\n",
            "Epoch 31/100\n",
            "9/9 [==============================] - 0s 9ms/step - loss: 22.6914 - val_loss: 280.7572\n",
            "Epoch 32/100\n",
            "9/9 [==============================] - 0s 9ms/step - loss: 20.0228 - val_loss: 263.1830\n",
            "Epoch 33/100\n",
            "9/9 [==============================] - 0s 9ms/step - loss: 17.5754 - val_loss: 241.9128\n",
            "Epoch 34/100\n",
            "9/9 [==============================] - 0s 8ms/step - loss: 17.6020 - val_loss: 227.5668\n",
            "Epoch 35/100\n",
            "9/9 [==============================] - 0s 9ms/step - loss: 16.9909 - val_loss: 214.1808\n",
            "Epoch 36/100\n",
            "9/9 [==============================] - 0s 8ms/step - loss: 16.2256 - val_loss: 198.3789\n",
            "Epoch 37/100\n",
            "9/9 [==============================] - 0s 8ms/step - loss: 13.5243 - val_loss: 189.0353\n",
            "Epoch 38/100\n",
            "9/9 [==============================] - 0s 9ms/step - loss: 12.4160 - val_loss: 173.4202\n",
            "Epoch 39/100\n",
            "9/9 [==============================] - 0s 8ms/step - loss: 10.1805 - val_loss: 164.1924\n",
            "Epoch 40/100\n",
            "9/9 [==============================] - 0s 9ms/step - loss: 12.3122 - val_loss: 151.3234\n",
            "Epoch 41/100\n",
            "9/9 [==============================] - 0s 8ms/step - loss: 9.6756 - val_loss: 139.1344\n",
            "Epoch 42/100\n",
            "9/9 [==============================] - 0s 8ms/step - loss: 9.6807 - val_loss: 137.0345\n",
            "Epoch 43/100\n",
            "9/9 [==============================] - 0s 9ms/step - loss: 9.9056 - val_loss: 124.7641\n",
            "Epoch 44/100\n",
            "9/9 [==============================] - 0s 8ms/step - loss: 9.3623 - val_loss: 124.8064\n",
            "Epoch 45/100\n",
            "9/9 [==============================] - 0s 9ms/step - loss: 8.4296 - val_loss: 118.6962\n",
            "Epoch 46/100\n",
            "9/9 [==============================] - 0s 8ms/step - loss: 8.4213 - val_loss: 106.6618\n",
            "Epoch 47/100\n",
            "9/9 [==============================] - 0s 8ms/step - loss: 8.6534 - val_loss: 107.4124\n",
            "Epoch 48/100\n",
            "9/9 [==============================] - 0s 8ms/step - loss: 8.7335 - val_loss: 97.8768\n",
            "Epoch 49/100\n",
            "9/9 [==============================] - 0s 9ms/step - loss: 6.6234 - val_loss: 98.5160\n",
            "Epoch 50/100\n",
            "9/9 [==============================] - 0s 8ms/step - loss: 7.6626 - val_loss: 90.1797\n",
            "Epoch 51/100\n",
            "9/9 [==============================] - 0s 9ms/step - loss: 6.6828 - val_loss: 82.9797\n",
            "Epoch 52/100\n",
            "9/9 [==============================] - 0s 9ms/step - loss: 8.4726 - val_loss: 82.1771\n",
            "Epoch 53/100\n",
            "9/9 [==============================] - 0s 9ms/step - loss: 7.4474 - val_loss: 82.8768\n",
            "Epoch 54/100\n",
            "9/9 [==============================] - 0s 8ms/step - loss: 6.6074 - val_loss: 77.3733\n",
            "Epoch 55/100\n",
            "9/9 [==============================] - 0s 8ms/step - loss: 6.3919 - val_loss: 76.8675\n",
            "Epoch 56/100\n",
            "9/9 [==============================] - 0s 9ms/step - loss: 5.5815 - val_loss: 81.2053\n",
            "Epoch 57/100\n",
            "9/9 [==============================] - 0s 8ms/step - loss: 5.7306 - val_loss: 75.5007\n",
            "Epoch 58/100\n",
            "9/9 [==============================] - 0s 8ms/step - loss: 5.9531 - val_loss: 70.3082\n",
            "Epoch 59/100\n",
            "9/9 [==============================] - 0s 8ms/step - loss: 6.0905 - val_loss: 68.4055\n",
            "Epoch 60/100\n",
            "9/9 [==============================] - 0s 8ms/step - loss: 6.3663 - val_loss: 74.4533\n",
            "Epoch 61/100\n",
            "9/9 [==============================] - 0s 9ms/step - loss: 6.2048 - val_loss: 66.8870\n",
            "Epoch 62/100\n",
            "9/9 [==============================] - 0s 8ms/step - loss: 5.6350 - val_loss: 68.1958\n",
            "Epoch 63/100\n",
            "9/9 [==============================] - 0s 8ms/step - loss: 6.1734 - val_loss: 68.0423\n",
            "Epoch 64/100\n",
            "9/9 [==============================] - 0s 9ms/step - loss: 5.3425 - val_loss: 62.1027\n",
            "Epoch 65/100\n",
            "9/9 [==============================] - 0s 9ms/step - loss: 5.7293 - val_loss: 65.3918\n",
            "Epoch 66/100\n",
            "9/9 [==============================] - 0s 9ms/step - loss: 5.0016 - val_loss: 59.0542\n",
            "Epoch 67/100\n",
            "9/9 [==============================] - 0s 8ms/step - loss: 5.9532 - val_loss: 65.5159\n",
            "Epoch 68/100\n",
            "9/9 [==============================] - 0s 8ms/step - loss: 5.6011 - val_loss: 55.4604\n",
            "Epoch 69/100\n",
            "9/9 [==============================] - 0s 9ms/step - loss: 6.3752 - val_loss: 65.0555\n",
            "Epoch 70/100\n",
            "9/9 [==============================] - 0s 9ms/step - loss: 5.4475 - val_loss: 54.1751\n",
            "Epoch 71/100\n",
            "9/9 [==============================] - 0s 9ms/step - loss: 5.7787 - val_loss: 53.8672\n",
            "Epoch 72/100\n",
            "9/9 [==============================] - 0s 8ms/step - loss: 5.1218 - val_loss: 68.3488\n",
            "Epoch 73/100\n",
            "9/9 [==============================] - 0s 8ms/step - loss: 7.2296 - val_loss: 57.9230\n",
            "Epoch 74/100\n",
            "9/9 [==============================] - 0s 8ms/step - loss: 5.0744 - val_loss: 53.7960\n",
            "Epoch 75/100\n",
            "9/9 [==============================] - 0s 8ms/step - loss: 4.7668 - val_loss: 61.7341\n",
            "Epoch 76/100\n",
            "9/9 [==============================] - 0s 8ms/step - loss: 5.9929 - val_loss: 54.5838\n",
            "Epoch 77/100\n",
            "9/9 [==============================] - 0s 9ms/step - loss: 4.5680 - val_loss: 56.9260\n",
            "Epoch 78/100\n",
            "9/9 [==============================] - 0s 8ms/step - loss: 5.8968 - val_loss: 55.0391\n",
            "Epoch 79/100\n",
            "9/9 [==============================] - 0s 9ms/step - loss: 4.6504 - val_loss: 56.5316\n",
            "Epoch 80/100\n",
            "9/9 [==============================] - 0s 8ms/step - loss: 5.6115 - val_loss: 48.2411\n",
            "Epoch 81/100\n",
            "9/9 [==============================] - 0s 8ms/step - loss: 4.8962 - val_loss: 64.7439\n",
            "Epoch 82/100\n",
            "9/9 [==============================] - 0s 9ms/step - loss: 5.3260 - val_loss: 46.9447\n",
            "Epoch 83/100\n",
            "9/9 [==============================] - 0s 8ms/step - loss: 5.0718 - val_loss: 60.9907\n",
            "Epoch 84/100\n",
            "9/9 [==============================] - 0s 9ms/step - loss: 5.1039 - val_loss: 42.7235\n",
            "Epoch 85/100\n",
            "9/9 [==============================] - 0s 8ms/step - loss: 6.1027 - val_loss: 52.7389\n",
            "Epoch 86/100\n",
            "9/9 [==============================] - 0s 9ms/step - loss: 6.2400 - val_loss: 48.5781\n",
            "Epoch 87/100\n",
            "9/9 [==============================] - 0s 9ms/step - loss: 5.0701 - val_loss: 42.1038\n",
            "Epoch 88/100\n",
            "9/9 [==============================] - 0s 8ms/step - loss: 4.7990 - val_loss: 51.0195\n",
            "Epoch 89/100\n",
            "9/9 [==============================] - 0s 9ms/step - loss: 5.0974 - val_loss: 42.5054\n",
            "Epoch 90/100\n",
            "9/9 [==============================] - 0s 8ms/step - loss: 5.4923 - val_loss: 47.3568\n",
            "Epoch 91/100\n",
            "9/9 [==============================] - 0s 8ms/step - loss: 4.4170 - val_loss: 59.0832\n",
            "Epoch 92/100\n",
            "9/9 [==============================] - 0s 8ms/step - loss: 5.1675 - val_loss: 43.0895\n",
            "Epoch 93/100\n",
            "9/9 [==============================] - 0s 8ms/step - loss: 4.9458 - val_loss: 49.5789\n",
            "Epoch 94/100\n",
            "9/9 [==============================] - 0s 9ms/step - loss: 4.3614 - val_loss: 46.1018\n",
            "Epoch 95/100\n",
            "9/9 [==============================] - 0s 9ms/step - loss: 5.8044 - val_loss: 40.9516\n",
            "Epoch 96/100\n",
            "9/9 [==============================] - 0s 9ms/step - loss: 4.2819 - val_loss: 51.5446\n",
            "Epoch 97/100\n",
            "9/9 [==============================] - 0s 8ms/step - loss: 4.7357 - val_loss: 36.9844\n",
            "Epoch 98/100\n",
            "9/9 [==============================] - 0s 9ms/step - loss: 5.7654 - val_loss: 41.6220\n",
            "Epoch 99/100\n",
            "9/9 [==============================] - 0s 9ms/step - loss: 4.8146 - val_loss: 44.7916\n",
            "Epoch 100/100\n",
            "9/9 [==============================] - 0s 8ms/step - loss: 4.5711 - val_loss: 39.0939\n"
          ],
          "name": "stdout"
        },
        {
          "output_type": "execute_result",
          "data": {
            "text/plain": [
              "<tensorflow.python.keras.callbacks.History at 0x7f05cbea0390>"
            ]
          },
          "metadata": {
            "tags": []
          },
          "execution_count": 135
        }
      ]
    },
    {
      "cell_type": "markdown",
      "metadata": {
        "id": "7QKzc2oUdZjF"
      },
      "source": [
        "#Exe. 7 Predict the textX with the trained LSTM model and demonstrate the exact and predicted value in a graph. What is your observation?"
      ]
    },
    {
      "cell_type": "code",
      "metadata": {
        "id": "z_iX6fYXdF8i"
      },
      "source": [
        "prediction = model.predict(X_test)\n"
      ],
      "execution_count": null,
      "outputs": []
    },
    {
      "cell_type": "code",
      "metadata": {
        "colab": {
          "base_uri": "https://localhost:8080/",
          "height": 295
        },
        "id": "rvsInCOpdids",
        "outputId": "b062a888-83d6-4c12-baaf-626617d6f543"
      },
      "source": [
        "plt.plot(y_test, label ='Actual', color = 'r')\n",
        "plt.plot( prediction, label ='Predicted', color = 'b')\n",
        "plt.grid()\n",
        "plt.title ('Actual  vs Predicted values' , pad = -50)"
      ],
      "execution_count": null,
      "outputs": [
        {
          "output_type": "execute_result",
          "data": {
            "text/plain": [
              "Text(0.5, 1.0, 'Actual  vs Predicted values')"
            ]
          },
          "metadata": {
            "tags": []
          },
          "execution_count": 146
        },
        {
          "output_type": "display_data",
          "data": {
            "image/png": "[encoded data removed]",
            "text/plain": [
              "<Figure size 432x288 with 1 Axes>"
            ]
          },
          "metadata": {
            "tags": [],
            "needs_background": "light"
          }
        }
      ]
    },
    {
      "cell_type": "markdown",
      "metadata": {
        "id": "eTn3lNRxeoJW"
      },
      "source": [
        "We can observe that except at the end of graph, actual and predicted values are close"
      ]
    },
    {
      "cell_type": "markdown",
      "metadata": {
        "id": "hQPnZ1VZezYo"
      },
      "source": [
        "#Gated Recurrent unit (GRU)\n"
      ]
    },
    {
      "cell_type": "markdown",
      "metadata": {
        "id": "Ww85vttyfAba"
      },
      "source": [
        "#Exe. 9 First read the data from the .csv file and save it into a string variable using:"
      ]
    },
    {
      "cell_type": "code",
      "metadata": {
        "colab": {
          "base_uri": "https://localhost:8080/"
        },
        "id": "hq4E3qyndvZs",
        "outputId": "7eb3c789-3860-40c4-d8fe-3cecb808a9b7"
      },
      "source": [
        "with open ('poems.txt', 'r') as file :\n",
        "  text = file . read ()\n",
        "print ( text )"
      ],
      "execution_count": null,
      "outputs": [
        {
          "output_type": "stream",
          "text": [
            "﻿Buffalo Bill’s\n",
            "defunct\n",
            "who used to\n",
            "ride a watersmooth-silver\n",
            "stallion\n",
            "and break one two three four five pigeons just like that\n",
            "Jesus\n",
            "\n",
            "he was a handsome man\n",
            "and what i want to know is\n",
            "how do you like your blueeyed boy\n",
            "Mister Death\n",
            "\n",
            "Had I the heaven’s embroidered cloths,\n",
            "Enwrought with golden and silver light,\n",
            "The blue and the dim and the dark cloths\n",
            "Of night and light and the half-light,\n",
            "I would spread the cloths under your feet:\n",
            "But I, being poor, have only my dreams;\n",
            "I have spread my dreams under your feet;\n",
            "Tread softly because you tread on my dreams.\n",
            "\n",
            "He clasps the crag with crooked hands;\n",
            "Close to the sun in lonely lands,\n",
            "Ring’d with the azure world, he stands.\n",
            "\n",
            "The wrinkled sea beneath him crawls;\n",
            "He watches from his mountain walls,\n",
            "And like a thunderbolt he falls.\n",
            "\n",
            "Some say the world will end in fire,\n",
            "Some say in ice.\n",
            "From what I’ve tasted of desire\n",
            "I hold with those who favor fire.\n",
            "But if it had to perish twice,\n",
            "I think I know enough of hate\n",
            "To say that for destruction ice\n",
            "Is also great\n",
            "And would suffice.\n",
            "\n",
            "Two roads diverged in a yellow wood,\n",
            "And sorry I could not travel both\n",
            "And be one traveler, long I stood\n",
            "And looked down one as far as I could\n",
            "To where it bent in the undergrowth;\n",
            "\n",
            "Then took the other, as just as fair,\n",
            "And having perhaps the better claim,\n",
            "Because it was grassy and wanted wear;\n",
            "Though as for that the passing there\n",
            "Had worn them really about the same,\n",
            "\n",
            "And both that morning equally lay\n",
            "In leaves no step had trodden black.\n",
            "Oh, I kept the first for another day!\n",
            "Yet knowing how way leads on to way,\n",
            "I doubted if I should ever come back.\n",
            "\n",
            "I shall be telling this with a sigh\n",
            "Somewhere ages and ages hence:\n",
            "Two roads diverged in a wood, and I—\n",
            "I took the one less traveled by,\n",
            "And that has made all the difference.\n"
          ],
          "name": "stdout"
        }
      ]
    },
    {
      "cell_type": "markdown",
      "metadata": {
        "id": "53lGKoEgfa2E"
      },
      "source": [
        "#Exe. 10 Create two dictionaries char_to_indices and indices_to_char map each unique character to a unique number and vise versa respectively. \n"
      ]
    },
    {
      "cell_type": "code",
      "metadata": {
        "colab": {
          "base_uri": "https://localhost:8080/"
        },
        "id": "p2pC2k37fVJA",
        "outputId": "e35aaf51-edf1-4655-c69b-52f4cba9cfa9"
      },
      "source": [
        "vocabulary = sorted ( list ( set ( text )) )\n",
        "vocabulary"
      ],
      "execution_count": null,
      "outputs": [
        {
          "output_type": "execute_result",
          "data": {
            "text/plain": [
              "['\\n',\n",
              " ' ',\n",
              " '!',\n",
              " ',',\n",
              " '-',\n",
              " '.',\n",
              " ':',\n",
              " ';',\n",
              " 'A',\n",
              " 'B',\n",
              " 'C',\n",
              " 'D',\n",
              " 'E',\n",
              " 'F',\n",
              " 'H',\n",
              " 'I',\n",
              " 'J',\n",
              " 'M',\n",
              " 'O',\n",
              " 'R',\n",
              " 'S',\n",
              " 'T',\n",
              " 'Y',\n",
              " 'a',\n",
              " 'b',\n",
              " 'c',\n",
              " 'd',\n",
              " 'e',\n",
              " 'f',\n",
              " 'g',\n",
              " 'h',\n",
              " 'i',\n",
              " 'j',\n",
              " 'k',\n",
              " 'l',\n",
              " 'm',\n",
              " 'n',\n",
              " 'o',\n",
              " 'p',\n",
              " 'q',\n",
              " 'r',\n",
              " 's',\n",
              " 't',\n",
              " 'u',\n",
              " 'v',\n",
              " 'w',\n",
              " 'y',\n",
              " 'z',\n",
              " '—',\n",
              " '’',\n",
              " '\\ufeff']"
            ]
          },
          "metadata": {
            "tags": []
          },
          "execution_count": 149
        }
      ]
    },
    {
      "cell_type": "code",
      "metadata": {
        "colab": {
          "base_uri": "https://localhost:8080/"
        },
        "id": "lQfLvtZ4fyoM",
        "outputId": "cabf3021-7366-4f67-b513-c73d1a26ce51"
      },
      "source": [
        "# Char to indices mapping\n",
        "char_to_indices = dict (( c , i) for i , c in enumerate ( vocabulary ))\n",
        "char_to_indices"
      ],
      "execution_count": null,
      "outputs": [
        {
          "output_type": "execute_result",
          "data": {
            "text/plain": [
              "{'\\n': 0,\n",
              " ' ': 1,\n",
              " '!': 2,\n",
              " ',': 3,\n",
              " '-': 4,\n",
              " '.': 5,\n",
              " ':': 6,\n",
              " ';': 7,\n",
              " 'A': 8,\n",
              " 'B': 9,\n",
              " 'C': 10,\n",
              " 'D': 11,\n",
              " 'E': 12,\n",
              " 'F': 13,\n",
              " 'H': 14,\n",
              " 'I': 15,\n",
              " 'J': 16,\n",
              " 'M': 17,\n",
              " 'O': 18,\n",
              " 'R': 19,\n",
              " 'S': 20,\n",
              " 'T': 21,\n",
              " 'Y': 22,\n",
              " 'a': 23,\n",
              " 'b': 24,\n",
              " 'c': 25,\n",
              " 'd': 26,\n",
              " 'e': 27,\n",
              " 'f': 28,\n",
              " 'g': 29,\n",
              " 'h': 30,\n",
              " 'i': 31,\n",
              " 'j': 32,\n",
              " 'k': 33,\n",
              " 'l': 34,\n",
              " 'm': 35,\n",
              " 'n': 36,\n",
              " 'o': 37,\n",
              " 'p': 38,\n",
              " 'q': 39,\n",
              " 'r': 40,\n",
              " 's': 41,\n",
              " 't': 42,\n",
              " 'u': 43,\n",
              " 'v': 44,\n",
              " 'w': 45,\n",
              " 'y': 46,\n",
              " 'z': 47,\n",
              " '—': 48,\n",
              " '’': 49,\n",
              " '\\ufeff': 50}"
            ]
          },
          "metadata": {
            "tags": []
          },
          "execution_count": 151
        }
      ]
    },
    {
      "cell_type": "code",
      "metadata": {
        "colab": {
          "base_uri": "https://localhost:8080/"
        },
        "id": "D82LK6-lf8au",
        "outputId": "fa6f7131-28d8-41a3-9202-1537858023e0"
      },
      "source": [
        "#indices to char mapping\n",
        "indices_to_char = dict (( i , c) for i , c in enumerate ( vocabulary ))\n",
        "indices_to_char"
      ],
      "execution_count": null,
      "outputs": [
        {
          "output_type": "execute_result",
          "data": {
            "text/plain": [
              "{0: '\\n',\n",
              " 1: ' ',\n",
              " 2: '!',\n",
              " 3: ',',\n",
              " 4: '-',\n",
              " 5: '.',\n",
              " 6: ':',\n",
              " 7: ';',\n",
              " 8: 'A',\n",
              " 9: 'B',\n",
              " 10: 'C',\n",
              " 11: 'D',\n",
              " 12: 'E',\n",
              " 13: 'F',\n",
              " 14: 'H',\n",
              " 15: 'I',\n",
              " 16: 'J',\n",
              " 17: 'M',\n",
              " 18: 'O',\n",
              " 19: 'R',\n",
              " 20: 'S',\n",
              " 21: 'T',\n",
              " 22: 'Y',\n",
              " 23: 'a',\n",
              " 24: 'b',\n",
              " 25: 'c',\n",
              " 26: 'd',\n",
              " 27: 'e',\n",
              " 28: 'f',\n",
              " 29: 'g',\n",
              " 30: 'h',\n",
              " 31: 'i',\n",
              " 32: 'j',\n",
              " 33: 'k',\n",
              " 34: 'l',\n",
              " 35: 'm',\n",
              " 36: 'n',\n",
              " 37: 'o',\n",
              " 38: 'p',\n",
              " 39: 'q',\n",
              " 40: 'r',\n",
              " 41: 's',\n",
              " 42: 't',\n",
              " 43: 'u',\n",
              " 44: 'v',\n",
              " 45: 'w',\n",
              " 46: 'y',\n",
              " 47: 'z',\n",
              " 48: '—',\n",
              " 49: '’',\n",
              " 50: '\\ufeff'}"
            ]
          },
          "metadata": {
            "tags": []
          },
          "execution_count": 153
        }
      ]
    },
    {
      "cell_type": "code",
      "metadata": {
        "colab": {
          "base_uri": "https://localhost:8080/"
        },
        "id": "9Dpn1Tn-gB5J",
        "outputId": "26e20831-7e2b-41b7-cc6c-fef3bde8b4c0"
      },
      "source": [
        "print ( vocabulary )"
      ],
      "execution_count": null,
      "outputs": [
        {
          "output_type": "stream",
          "text": [
            "['\\n', ' ', '!', ',', '-', '.', ':', ';', 'A', 'B', 'C', 'D', 'E', 'F', 'H', 'I', 'J', 'M', 'O', 'R', 'S', 'T', 'Y', 'a', 'b', 'c', 'd', 'e', 'f', 'g', 'h', 'i', 'j', 'k', 'l', 'm', 'n', 'o', 'p', 'q', 'r', 's', 't', 'u', 'v', 'w', 'y', 'z', '—', '’', '\\ufeff']\n"
          ],
          "name": "stdout"
        }
      ]
    },
    {
      "cell_type": "markdown",
      "metadata": {
        "id": "p39SlPhmgcnO"
      },
      "source": [
        "#Exe. 11 To get valuable data, which we can use to train our model we will split our data up into subsequences with a length of 100 characters using:\n"
      ]
    },
    {
      "cell_type": "code",
      "metadata": {
        "id": "6M_Ag8mxgXe9"
      },
      "source": [
        "max_length = 100\n",
        "steps = 5\n",
        "sentences = []\n",
        "next_chars = []\n",
        "for i in range (0 , len ( text ) - max_length , steps ):\n",
        "  sentences . append ( text [i: i + max_length ])\n",
        "  next_chars . append ( text [ i + max_length ])"
      ],
      "execution_count": null,
      "outputs": []
    },
    {
      "cell_type": "code",
      "metadata": {
        "colab": {
          "base_uri": "https://localhost:8080/"
        },
        "id": "g-2DvkpOhGSm",
        "outputId": "c7249110-6b4f-434c-ce37-cbb34ab5fbc7"
      },
      "source": [
        "sentences[:5]"
      ],
      "execution_count": null,
      "outputs": [
        {
          "output_type": "execute_result",
          "data": {
            "text/plain": [
              "['\\ufeffBuffalo Bill’s\\ndefunct\\nwho used to\\nride a watersmooth-silver\\nstallion\\nand break one two three four ',\n",
              " 'alo Bill’s\\ndefunct\\nwho used to\\nride a watersmooth-silver\\nstallion\\nand break one two three four five ',\n",
              " 'ill’s\\ndefunct\\nwho used to\\nride a watersmooth-silver\\nstallion\\nand break one two three four five pigeo',\n",
              " '\\ndefunct\\nwho used to\\nride a watersmooth-silver\\nstallion\\nand break one two three four five pigeons ju',\n",
              " 'nct\\nwho used to\\nride a watersmooth-silver\\nstallion\\nand break one two three four five pigeons just li']"
            ]
          },
          "metadata": {
            "tags": []
          },
          "execution_count": 160
        }
      ]
    },
    {
      "cell_type": "code",
      "metadata": {
        "colab": {
          "base_uri": "https://localhost:8080/"
        },
        "id": "0beLqc6ihH5s",
        "outputId": "83de024a-bdc2-46a5-8c7a-cb55f9f25834"
      },
      "source": [
        "next_chars[:5]"
      ],
      "execution_count": null,
      "outputs": [
        {
          "output_type": "execute_result",
          "data": {
            "text/plain": [
              "['f', 'p', 'n', 's', 'k']"
            ]
          },
          "metadata": {
            "tags": []
          },
          "execution_count": 163
        }
      ]
    },
    {
      "cell_type": "markdown",
      "metadata": {
        "id": "8hf4KgUBi3VU"
      },
      "source": [
        "# Exe. 12 Hot encoding"
      ]
    },
    {
      "cell_type": "code",
      "metadata": {
        "colab": {
          "base_uri": "https://localhost:8080/"
        },
        "id": "VWDQErhqh0ZY",
        "outputId": "9522dcfb-cf1a-4e60-ccd3-84f17ce71ebb"
      },
      "source": [
        "X = np . zeros (( len ( sentences ) , max_length , len ( vocabulary )) , dtype = np . bool )\n",
        "y = np . zeros (( len ( sentences ) , len ( vocabulary ) ) , dtype = np . bool )\n",
        "X[0]"
      ],
      "execution_count": null,
      "outputs": [
        {
          "output_type": "execute_result",
          "data": {
            "text/plain": [
              "array([[False, False, False, ..., False, False, False],\n",
              "       [False, False, False, ..., False, False, False],\n",
              "       [False, False, False, ..., False, False, False],\n",
              "       ...,\n",
              "       [False, False, False, ..., False, False, False],\n",
              "       [False, False, False, ..., False, False, False],\n",
              "       [False, False, False, ..., False, False, False]])"
            ]
          },
          "metadata": {
            "tags": []
          },
          "execution_count": 166
        }
      ]
    },
    {
      "cell_type": "code",
      "metadata": {
        "colab": {
          "base_uri": "https://localhost:8080/"
        },
        "id": "E-NqbbBpjQPe",
        "outputId": "a8cfe9d1-1021-49d2-9325-5e4d9fd064c7"
      },
      "source": [
        "y[0]"
      ],
      "execution_count": null,
      "outputs": [
        {
          "output_type": "execute_result",
          "data": {
            "text/plain": [
              "array([False, False, False, False, False, False, False, False, False,\n",
              "       False, False, False, False, False, False, False, False, False,\n",
              "       False, False, False, False, False, False, False, False, False,\n",
              "       False, False, False, False, False, False, False, False, False,\n",
              "       False, False, False, False, False, False, False, False, False,\n",
              "       False, False, False, False, False, False])"
            ]
          },
          "metadata": {
            "tags": []
          },
          "execution_count": 167
        }
      ]
    },
    {
      "cell_type": "code",
      "metadata": {
        "id": "L6cmFpLjjWKK"
      },
      "source": [
        "# Set 1 at positions where the word is existed in the selected text vector\n",
        "for i , sentence in enumerate ( sentences ):\n",
        "  for t , char in enumerate ( sentence ):\n",
        "    X[i , t , char_to_indices [ char ]] = 1\n",
        "    y[i , char_to_indices [ next_chars [i ]]] = 1\n"
      ],
      "execution_count": null,
      "outputs": []
    },
    {
      "cell_type": "code",
      "metadata": {
        "colab": {
          "base_uri": "https://localhost:8080/"
        },
        "id": "Oeg1-QXcjfjq",
        "outputId": "5cbb3511-de8e-4214-abf2-2885a80bed4f"
      },
      "source": [
        "X[0]"
      ],
      "execution_count": null,
      "outputs": [
        {
          "output_type": "execute_result",
          "data": {
            "text/plain": [
              "array([[False, False, False, ..., False, False,  True],\n",
              "       [False, False, False, ..., False, False, False],\n",
              "       [False, False, False, ..., False, False, False],\n",
              "       ...,\n",
              "       [False, False, False, ..., False, False, False],\n",
              "       [False, False, False, ..., False, False, False],\n",
              "       [False,  True, False, ..., False, False, False]])"
            ]
          },
          "metadata": {
            "tags": []
          },
          "execution_count": 169
        }
      ]
    },
    {
      "cell_type": "code",
      "metadata": {
        "colab": {
          "base_uri": "https://localhost:8080/"
        },
        "id": "AAHKFfmKjthv",
        "outputId": "96fe3267-d941-4a3d-b720-d536ae0ab277"
      },
      "source": [
        "print(X.shape)\n",
        "print(y.shape)"
      ],
      "execution_count": null,
      "outputs": [
        {
          "output_type": "stream",
          "text": [
            "(332, 100, 51)\n",
            "(332, 51)\n"
          ],
          "name": "stdout"
        }
      ]
    },
    {
      "cell_type": "code",
      "metadata": {
        "colab": {
          "base_uri": "https://localhost:8080/",
          "height": 35
        },
        "id": "kzmIXAlOk_8X",
        "outputId": "60af6aac-6692-4244-c3bb-5403fbf52635"
      },
      "source": [
        "text[0:max_length+1]"
      ],
      "execution_count": null,
      "outputs": [
        {
          "output_type": "execute_result",
          "data": {
            "application/vnd.google.colaboratory.intrinsic+json": {
              "type": "string"
            },
            "text/plain": [
              "'\\ufeffBuffalo Bill’s\\ndefunct\\nwho used to\\nride a watersmooth-silver\\nstallion\\nand break one two three four f'"
            ]
          },
          "metadata": {
            "tags": []
          },
          "execution_count": 173
        }
      ]
    },
    {
      "cell_type": "markdown",
      "metadata": {
        "id": "lzKoA0U6kpoU"
      },
      "source": [
        "# Exe. 13  create model"
      ]
    },
    {
      "cell_type": "code",
      "metadata": {
        "id": "9ABupI3ukm6e"
      },
      "source": [
        "from tensorflow.keras.layers import GRU\n",
        "from keras.optimizers import RMSprop\n",
        "# initialize model\n",
        "model = Sequential() \n",
        "\n",
        "# Define cell type\n",
        "model.add(GRU(128, input_shape =(max_length, len(vocabulary)))) \n",
        "\n",
        "# Add dense layer \n",
        "model.add(Dense(len(vocabulary))) \n",
        " \n",
        "# Define activation function\n",
        "model.add(Activation('softmax')) \n",
        "\n",
        "# Define optimizer\n",
        "optimizer = RMSprop(lr = 0.01) \n",
        "\n",
        "# compile the model\n",
        "model.compile(loss ='categorical_crossentropy', optimizer = optimizer)\n"
      ],
      "execution_count": null,
      "outputs": []
    },
    {
      "cell_type": "code",
      "metadata": {
        "colab": {
          "base_uri": "https://localhost:8080/"
        },
        "id": "U8MXB0c_mku3",
        "outputId": "a4ad4cb7-2d74-46fd-fb70-51fbf3e9d60f"
      },
      "source": [
        "model.summary()"
      ],
      "execution_count": null,
      "outputs": [
        {
          "output_type": "stream",
          "text": [
            "Model: \"sequential_16\"\n",
            "_________________________________________________________________\n",
            "Layer (type)                 Output Shape              Param #   \n",
            "=================================================================\n",
            "gru_4 (GRU)                  (None, 128)               69504     \n",
            "_________________________________________________________________\n",
            "dense_15 (Dense)             (None, 51)                6579      \n",
            "_________________________________________________________________\n",
            "activation_4 (Activation)    (None, 51)                0         \n",
            "=================================================================\n",
            "Total params: 76,083\n",
            "Trainable params: 76,083\n",
            "Non-trainable params: 0\n",
            "_________________________________________________________________\n"
          ],
          "name": "stdout"
        }
      ]
    },
    {
      "cell_type": "code",
      "metadata": {
        "colab": {
          "base_uri": "https://localhost:8080/"
        },
        "id": "TCkzN2Q2nt3i",
        "outputId": "8306d1c2-ce63-48d5-eb4a-7bf5875ef2c5"
      },
      "source": [
        "len(vocabulary)"
      ],
      "execution_count": null,
      "outputs": [
        {
          "output_type": "execute_result",
          "data": {
            "text/plain": [
              "51"
            ]
          },
          "metadata": {
            "tags": []
          },
          "execution_count": 188
        }
      ]
    },
    {
      "cell_type": "code",
      "metadata": {
        "colab": {
          "base_uri": "https://localhost:8080/"
        },
        "id": "qHVQztRfm8dS",
        "outputId": "b6193d9b-f074-4d5a-f03e-d48a9c3308ec"
      },
      "source": [
        "(51+128+2)*128*3"
      ],
      "execution_count": null,
      "outputs": [
        {
          "output_type": "execute_result",
          "data": {
            "text/plain": [
              "69504"
            ]
          },
          "metadata": {
            "tags": []
          },
          "execution_count": 189
        }
      ]
    },
    {
      "cell_type": "code",
      "metadata": {
        "colab": {
          "base_uri": "https://localhost:8080/"
        },
        "id": "sMKpZibwn33F",
        "outputId": "0e50a98a-32d2-404e-a595-2eee17333b2e"
      },
      "source": [
        "(128+1)*51"
      ],
      "execution_count": null,
      "outputs": [
        {
          "output_type": "execute_result",
          "data": {
            "text/plain": [
              "6579"
            ]
          },
          "metadata": {
            "tags": []
          },
          "execution_count": 190
        }
      ]
    },
    {
      "cell_type": "markdown",
      "metadata": {
        "id": "RIMx-D8JofIu"
      },
      "source": [
        "#Exe. 14 fit the trained model on X and Y datasets by defining a batch size and epochs values. Check loss and accuracy of your model."
      ]
    },
    {
      "cell_type": "code",
      "metadata": {
        "colab": {
          "base_uri": "https://localhost:8080/"
        },
        "id": "iEKLqJQ9oaJi",
        "outputId": "a0255310-2526-4e5a-e8e9-44a6cf34e0ab"
      },
      "source": [
        "model.fit(X, y, batch_size = 128, epochs = 30)"
      ],
      "execution_count": null,
      "outputs": [
        {
          "output_type": "stream",
          "text": [
            "Epoch 1/30\n",
            "3/3 [==============================] - 0s 12ms/step - loss: 0.2793\n",
            "Epoch 2/30\n",
            "3/3 [==============================] - 0s 12ms/step - loss: 0.3069\n",
            "Epoch 3/30\n",
            "3/3 [==============================] - 0s 12ms/step - loss: 0.0558\n",
            "Epoch 4/30\n",
            "3/3 [==============================] - 0s 13ms/step - loss: 0.0174\n",
            "Epoch 5/30\n",
            "3/3 [==============================] - 0s 13ms/step - loss: 0.0114\n",
            "Epoch 6/30\n",
            "3/3 [==============================] - 0s 12ms/step - loss: 0.0057\n",
            "Epoch 7/30\n",
            "3/3 [==============================] - 0s 11ms/step - loss: 0.0043\n",
            "Epoch 8/30\n",
            "3/3 [==============================] - 0s 10ms/step - loss: 0.0036\n",
            "Epoch 9/30\n",
            "3/3 [==============================] - 0s 10ms/step - loss: 0.0030\n",
            "Epoch 10/30\n",
            "3/3 [==============================] - 0s 10ms/step - loss: 0.0026\n",
            "Epoch 11/30\n",
            "3/3 [==============================] - 0s 10ms/step - loss: 0.0022\n",
            "Epoch 12/30\n",
            "3/3 [==============================] - 0s 10ms/step - loss: 0.0019\n",
            "Epoch 13/30\n",
            "3/3 [==============================] - 0s 12ms/step - loss: 0.0017\n",
            "Epoch 14/30\n",
            "3/3 [==============================] - 0s 9ms/step - loss: 0.0014\n",
            "Epoch 15/30\n",
            "3/3 [==============================] - 0s 8ms/step - loss: 0.0013\n",
            "Epoch 16/30\n",
            "3/3 [==============================] - 0s 10ms/step - loss: 0.0011\n",
            "Epoch 17/30\n",
            "3/3 [==============================] - 0s 10ms/step - loss: 9.5682e-04\n",
            "Epoch 18/30\n",
            "3/3 [==============================] - 0s 9ms/step - loss: 8.2896e-04\n",
            "Epoch 19/30\n",
            "3/3 [==============================] - 0s 8ms/step - loss: 7.2227e-04\n",
            "Epoch 20/30\n",
            "3/3 [==============================] - 0s 9ms/step - loss: 6.2500e-04\n",
            "Epoch 21/30\n",
            "3/3 [==============================] - 0s 8ms/step - loss: 5.4030e-04\n",
            "Epoch 22/30\n",
            "3/3 [==============================] - 0s 10ms/step - loss: 4.6881e-04\n",
            "Epoch 23/30\n",
            "3/3 [==============================] - 0s 9ms/step - loss: 4.0454e-04\n",
            "Epoch 24/30\n",
            "3/3 [==============================] - 0s 8ms/step - loss: 3.4980e-04\n",
            "Epoch 25/30\n",
            "3/3 [==============================] - 0s 8ms/step - loss: 3.0336e-04\n",
            "Epoch 26/30\n",
            "3/3 [==============================] - 0s 9ms/step - loss: 2.6072e-04\n",
            "Epoch 27/30\n",
            "3/3 [==============================] - 0s 8ms/step - loss: 2.2492e-04\n",
            "Epoch 28/30\n",
            "3/3 [==============================] - 0s 8ms/step - loss: 1.9435e-04\n",
            "Epoch 29/30\n",
            "3/3 [==============================] - 0s 9ms/step - loss: 1.6766e-04\n",
            "Epoch 30/30\n",
            "3/3 [==============================] - 0s 8ms/step - loss: 1.4444e-04\n"
          ],
          "name": "stdout"
        },
        {
          "output_type": "execute_result",
          "data": {
            "text/plain": [
              "<tensorflow.python.keras.callbacks.History at 0x7f05c672bfd0>"
            ]
          },
          "metadata": {
            "tags": []
          },
          "execution_count": 199
        }
      ]
    },
    {
      "cell_type": "code",
      "metadata": {
        "colab": {
          "base_uri": "https://localhost:8080/"
        },
        "id": "p-5CbfgLorBe",
        "outputId": "01484adf-cf4a-4fc5-e18b-aa53436fcfad"
      },
      "source": [
        "loss = model.evaluate(X , y)\n",
        "loss"
      ],
      "execution_count": null,
      "outputs": [
        {
          "output_type": "stream",
          "text": [
            "11/11 [==============================] - 0s 3ms/step - loss: 1.2258e-04\n"
          ],
          "name": "stdout"
        },
        {
          "output_type": "execute_result",
          "data": {
            "text/plain": [
              "0.00012257917842362076"
            ]
          },
          "metadata": {
            "tags": []
          },
          "execution_count": 200
        }
      ]
    },
    {
      "cell_type": "markdown",
      "metadata": {
        "id": "HuRQCIRvqRt0"
      },
      "source": [
        "#Exe. 15 "
      ]
    },
    {
      "cell_type": "code",
      "metadata": {
        "id": "I2MuZVkrpT95"
      },
      "source": [
        "# Helper function to sample an index from probabilites\n",
        "def sample_index(preds, temperature=1.0):\n",
        "  # temperature is used to determine degree of freedom the function has while generating text\n",
        "  # converting prediction vector into numpy array\n",
        "  preds= np.asarray(preds).astype('float64')\n",
        "  # Normalizing the predictions array\n",
        "  preds= np.log(preds) / temperature\n",
        "  exp_preds= np.exp(preds)\n",
        "  preds= exp_preds / np.sum(exp_preds)\n",
        "\n",
        "  # Creates an array of probabilities signifying the prob of each char to be the next char in the generated text\n",
        "  probas = np.random.multinomial(1,preds, 1) #  to characterize the probability of each occurring outcome\n",
        "  # return the char with max probability\n",
        "  return np.argmax(probas)"
      ],
      "execution_count": null,
      "outputs": []
    },
    {
      "cell_type": "code",
      "metadata": {
        "id": "7LMjBRnxtlhe"
      },
      "source": [
        "def sample_probas(preds, temperature=1.0):\n",
        "  # function to sample index from probability array\n",
        "  preds = np.asarray(preds).astype('float64')\n",
        "  preds = np.log(preds) / temperature\n",
        "  exp_preds = np.exp(preds)\n",
        "  preds = exp_preds / np.sum(exp_preds)\n",
        "  probas = np.random.multinomial(1, preds, 1)\n",
        "  return preds"
      ],
      "execution_count": null,
      "outputs": []
    },
    {
      "cell_type": "code",
      "metadata": {
        "colab": {
          "base_uri": "https://localhost:8080/"
        },
        "id": "2fkvUIuWvWOg",
        "outputId": "3f83e8b5-6b59-4a0d-bf5f-ead48863bad9"
      },
      "source": [
        "# For probabilities between 0 and 1, we can test different values of temperatur\n",
        "x_seq = np.linspace(0.001,1,100)\n",
        "x_seq\n"
      ],
      "execution_count": null,
      "outputs": [
        {
          "output_type": "execute_result",
          "data": {
            "text/plain": [
              "array([0.001     , 0.01109091, 0.02118182, 0.03127273, 0.04136364,\n",
              "       0.05145455, 0.06154545, 0.07163636, 0.08172727, 0.09181818,\n",
              "       0.10190909, 0.112     , 0.12209091, 0.13218182, 0.14227273,\n",
              "       0.15236364, 0.16245455, 0.17254545, 0.18263636, 0.19272727,\n",
              "       0.20281818, 0.21290909, 0.223     , 0.23309091, 0.24318182,\n",
              "       0.25327273, 0.26336364, 0.27345455, 0.28354545, 0.29363636,\n",
              "       0.30372727, 0.31381818, 0.32390909, 0.334     , 0.34409091,\n",
              "       0.35418182, 0.36427273, 0.37436364, 0.38445455, 0.39454545,\n",
              "       0.40463636, 0.41472727, 0.42481818, 0.43490909, 0.445     ,\n",
              "       0.45509091, 0.46518182, 0.47527273, 0.48536364, 0.49545455,\n",
              "       0.50554545, 0.51563636, 0.52572727, 0.53581818, 0.54590909,\n",
              "       0.556     , 0.56609091, 0.57618182, 0.58627273, 0.59636364,\n",
              "       0.60645455, 0.61654545, 0.62663636, 0.63672727, 0.64681818,\n",
              "       0.65690909, 0.667     , 0.67709091, 0.68718182, 0.69727273,\n",
              "       0.70736364, 0.71745455, 0.72754545, 0.73763636, 0.74772727,\n",
              "       0.75781818, 0.76790909, 0.778     , 0.78809091, 0.79818182,\n",
              "       0.80827273, 0.81836364, 0.82845455, 0.83854545, 0.84863636,\n",
              "       0.85872727, 0.86881818, 0.87890909, 0.889     , 0.89909091,\n",
              "       0.90918182, 0.91927273, 0.92936364, 0.93945455, 0.94954545,\n",
              "       0.95963636, 0.96972727, 0.97981818, 0.98990909, 1.        ])"
            ]
          },
          "metadata": {
            "tags": []
          },
          "execution_count": 208
        }
      ]
    },
    {
      "cell_type": "code",
      "metadata": {
        "id": "Bxap5tEVvuRJ"
      },
      "source": [
        "temperature= 0.2\n",
        "\n",
        "def tran_x(x_seq,temperature):\n",
        "  x_seq_exp = np.exp(np.log(x_seq)/ temperature)\n",
        "  y_seq = x_seq_exp / np.sum(x_seq_exp)\n",
        "  return y_seq"
      ],
      "execution_count": null,
      "outputs": []
    },
    {
      "cell_type": "code",
      "metadata": {
        "colab": {
          "base_uri": "https://localhost:8080/",
          "height": 282
        },
        "id": "urrk4PJOwMG6",
        "outputId": "8f651806-fb7e-4aaf-cdac-aa4259912159"
      },
      "source": [
        "plt.plot(x_seq, tran_x(x_seq,1),label=\"1\")\n",
        "plt.plot(x_seq, tran_x(x_seq,10.1),label=\"10.1\")\n",
        "plt.plot(x_seq, tran_x(x_seq,0.1),label=\"0.1\")\n",
        "plt.plot(x_seq, tran_x(x_seq,0.5),label=\"0.5\")\n",
        "plt.legend()"
      ],
      "execution_count": null,
      "outputs": [
        {
          "output_type": "execute_result",
          "data": {
            "text/plain": [
              "<matplotlib.legend.Legend at 0x7f05d8766310>"
            ]
          },
          "metadata": {
            "tags": []
          },
          "execution_count": 211
        },
        {
          "output_type": "display_data",
          "data": {
            "image/png": "[encoded data removed]",
            "text/plain": [
              "<Figure size 432x288 with 1 Axes>"
            ]
          },
          "metadata": {
            "tags": [],
            "needs_background": "light"
          }
        }
      ]
    },
    {
      "cell_type": "markdown",
      "metadata": {
        "id": "tROHLQu8sKvl"
      },
      "source": [
        "# Text generator"
      ]
    },
    {
      "cell_type": "code",
      "metadata": {
        "id": "wX_kQlJPxMAz"
      },
      "source": [
        "import random\n",
        "def generate_text(length, diversity):\n",
        "  # Generate random starting text\n",
        "  start_index = random.randint(0,len(text)-max_length-1)\n",
        "  # Defining generated text\n",
        "  generated = ''\n",
        "  sentence = text[start_index:start_index + max_length]\n",
        "  generated = generated + sentence\n",
        "  # generating new text of given length\n",
        "  for i in range(length):\n",
        "    # initialize prediction vector\n",
        "    x_pred = np.zeros((1,max_length, len(vocabulary)))\n",
        "    for t, char in enumerate(sentence):\n",
        "      x_pred[0, t, char_to_indices[char]] =1 \n",
        "    # Make predictions\n",
        "    preds = model.predict(x_pred, verbose=0)[0]\n",
        "\n",
        "    # Getting the index of the next most probable index\n",
        "    next_index = sample_index(preds, diversity)\n",
        "\n",
        "    # Getting the next most probable char using mapping built\n",
        "    next_char = indices_to_char[next_index]\n",
        "\n",
        "    # Generate new text\n",
        "    generated = generated + next_char\n",
        "    sentence = sentence[1:] + next_char\n",
        "  return generated"
      ],
      "execution_count": null,
      "outputs": []
    },
    {
      "cell_type": "code",
      "metadata": {
        "colab": {
          "base_uri": "https://localhost:8080/"
        },
        "id": "f1_Kd5dxxiGq",
        "outputId": "ad522ef9-d1d9-495a-e654-0efa9c499367"
      },
      "source": [
        "print(generate_text(300, 0.5))"
      ],
      "execution_count": null,
      "outputs": [
        {
          "output_type": "stream",
          "text": [
            "ight and light and the half-light,\n",
            "I would spread the cloths under your feet:\n",
            "But I, being poor, havin  te als;d thavly whave y he caas  thamin  thave pe hand teaver anderero fte caase an the caase youwthe wthe caas  at ass  touthand thime passg it at he fassg it at he fasre caouw ha whag ha whag thimerone y same wasd it and lasd laor le caave y he caas  teamey thave hassg eaass  thave yass foteav\n"
          ],
          "name": "stdout"
        }
      ]
    },
    {
      "cell_type": "markdown",
      "metadata": {
        "id": "fH9xxW_e0nA-"
      },
      "source": [
        "we can observe that the generated text is not completely matching the original one"
      ]
    }
  ]
}